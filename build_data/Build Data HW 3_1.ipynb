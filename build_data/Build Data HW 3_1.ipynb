{
 "cells": [
  {
   "cell_type": "code",
   "execution_count": 1,
   "metadata": {},
   "outputs": [
    {
     "name": "stderr",
     "output_type": "stream",
     "text": [
      "/Users/markhendricks/Projects/drw-dataanalysis-2023/venv/lib/python3.9/site-packages/urllib3/__init__.py:34: NotOpenSSLWarning: urllib3 v2.0 only supports OpenSSL 1.1.1+, currently the 'ssl' module is compiled with 'LibreSSL 2.8.3'. See: https://github.com/urllib3/urllib3/issues/3020\n",
      "  warnings.warn(\n"
     ]
    }
   ],
   "source": [
    "import pandas as pd\n",
    "import numpy as np\n",
    "\n",
    "import yfinance as yf"
   ]
  },
  {
   "cell_type": "code",
   "execution_count": 2,
   "metadata": {},
   "outputs": [
    {
     "data": {
      "text/html": [
       "<div>\n",
       "<style scoped>\n",
       "    .dataframe tbody tr th:only-of-type {\n",
       "        vertical-align: middle;\n",
       "    }\n",
       "\n",
       "    .dataframe tbody tr th {\n",
       "        vertical-align: top;\n",
       "    }\n",
       "\n",
       "    .dataframe thead th {\n",
       "        text-align: right;\n",
       "    }\n",
       "</style>\n",
       "<table border=\"1\" class=\"dataframe\">\n",
       "  <thead>\n",
       "    <tr style=\"text-align: right;\">\n",
       "      <th></th>\n",
       "      <th>ETF Description</th>\n",
       "    </tr>\n",
       "  </thead>\n",
       "  <tbody>\n",
       "    <tr>\n",
       "      <th>SPY</th>\n",
       "      <td>Domestic Equity SPDR S&amp;P500</td>\n",
       "    </tr>\n",
       "    <tr>\n",
       "      <th>EFA</th>\n",
       "      <td>Foreign Equity iShares EAFE</td>\n",
       "    </tr>\n",
       "    <tr>\n",
       "      <th>EEM</th>\n",
       "      <td>iShares Emerging Markets</td>\n",
       "    </tr>\n",
       "    <tr>\n",
       "      <th>PSP</th>\n",
       "      <td>Private Equity Invesco Global Private Equity</td>\n",
       "    </tr>\n",
       "    <tr>\n",
       "      <th>QAI</th>\n",
       "      <td>Absolute Return IQ Multi-Strat</td>\n",
       "    </tr>\n",
       "    <tr>\n",
       "      <th>HYG</th>\n",
       "      <td>High Yield iShares High Yield Corporate Bond</td>\n",
       "    </tr>\n",
       "    <tr>\n",
       "      <th>DBC</th>\n",
       "      <td>Invesco DB Commodity Index Tracking Fund</td>\n",
       "    </tr>\n",
       "    <tr>\n",
       "      <th>IYR</th>\n",
       "      <td>Real Estate iShares US Real Estate</td>\n",
       "    </tr>\n",
       "    <tr>\n",
       "      <th>IEF</th>\n",
       "      <td>Domestic Bonds iShares 7-10 Year Treasury</td>\n",
       "    </tr>\n",
       "    <tr>\n",
       "      <th>BWX</th>\n",
       "      <td>Foreign Bonds SPDR Bloomberg Barclay Internati...</td>\n",
       "    </tr>\n",
       "    <tr>\n",
       "      <th>TIP</th>\n",
       "      <td>Inflation-Indexed iShares TIPS Bond</td>\n",
       "    </tr>\n",
       "    <tr>\n",
       "      <th>SHV</th>\n",
       "      <td>iShares Short Treasury Bond</td>\n",
       "    </tr>\n",
       "  </tbody>\n",
       "</table>\n",
       "</div>"
      ],
      "text/plain": [
       "                                       ETF Description\n",
       "SPY                        Domestic Equity SPDR S&P500\n",
       "EFA                        Foreign Equity iShares EAFE\n",
       "EEM                           iShares Emerging Markets\n",
       "PSP       Private Equity Invesco Global Private Equity\n",
       "QAI                     Absolute Return IQ Multi-Strat\n",
       "HYG       High Yield iShares High Yield Corporate Bond\n",
       "DBC           Invesco DB Commodity Index Tracking Fund\n",
       "IYR                 Real Estate iShares US Real Estate\n",
       "IEF          Domestic Bonds iShares 7-10 Year Treasury\n",
       "BWX  Foreign Bonds SPDR Bloomberg Barclay Internati...\n",
       "TIP                Inflation-Indexed iShares TIPS Bond\n",
       "SHV                        iShares Short Treasury Bond"
      ]
     },
     "execution_count": 2,
     "metadata": {},
     "output_type": "execute_result"
    }
   ],
   "source": [
    "info = pd.DataFrame(columns=['ETF Description'])\n",
    "info.loc['SPY'] = 'Domestic Equity SPDR S&P500'\n",
    "info.loc['EFA'] = 'Foreign Equity iShares EAFE'\n",
    "info.loc['EEM'] = 'iShares Emerging Markets'\n",
    "info.loc['PSP'] = 'Private Equity Invesco Global Private Equity'\n",
    "info.loc['QAI'] = 'Absolute Return IQ Multi-Strat'\n",
    "info.loc['HYG'] = 'High Yield iShares High Yield Corporate Bond'\n",
    "info.loc['DBC'] = 'Invesco DB Commodity Index Tracking Fund'\n",
    "info.loc['IYR'] = 'Real Estate iShares US Real Estate'\n",
    "info.loc['IEF'] = 'Domestic Bonds iShares 7-10 Year Treasury'\n",
    "info.loc['BWX'] = 'Foreign Bonds SPDR Bloomberg Barclay International Treasury'\n",
    "info.loc['TIP'] = 'Inflation-Indexed iShares TIPS Bond'\n",
    "info.loc['SHV'] = 'iShares Short Treasury Bond'\n",
    "info"
   ]
  },
  {
   "cell_type": "code",
   "execution_count": 3,
   "metadata": {},
   "outputs": [
    {
     "name": "stdout",
     "output_type": "stream",
     "text": [
      "[*********************100%***********************]  12 of 12 completed\n"
     ]
    }
   ],
   "source": [
    "tickers = list(info.index.values)\n",
    "\n",
    "START = \"2007-01-01\"\n",
    "END = \"2023-05-31\"\n",
    "df = yf.download(tickers, start=START, end=END)['Adj Close']"
   ]
  },
  {
   "cell_type": "code",
   "execution_count": 4,
   "metadata": {},
   "outputs": [],
   "source": [
    "prices = df.resample('M').last()\n",
    "rets = prices.pct_change()\n",
    "\n",
    "# keep simple by dropping months where any security has nan\n",
    "rets.dropna(inplace=True)# = rets.loc[start_date:]\n",
    "# reorder columns to match info tab, not alphabetical\n",
    "rets = rets[info.index]"
   ]
  },
  {
   "cell_type": "code",
   "execution_count": 5,
   "metadata": {},
   "outputs": [],
   "source": [
    "TICKS_PORT = ['PSP','QAI','IYR','IEF']\n",
    "port = (rets[TICKS_PORT].mean(axis=1)).to_frame().rename(columns={0:'portfolio'})"
   ]
  },
  {
   "cell_type": "code",
   "execution_count": 6,
   "metadata": {},
   "outputs": [],
   "source": [
    "with pd.ExcelWriter('../data/hw_3_1_data.xlsx') as writer:  \n",
    "    info.to_excel(writer, sheet_name= 'info')\n",
    "    rets.to_excel(writer, sheet_name='security returns')\n",
    "    port.to_excel(writer, sheet_name='portfolio returns')\n",
    "#    retsx.to_excel(writer, sheet_name='excess returns')"
   ]
  }
 ],
 "metadata": {
  "hide_input": false,
  "kernelspec": {
   "display_name": "Python 3 (ipykernel)",
   "language": "python",
   "name": "python3"
  },
  "language_info": {
   "codemirror_mode": {
    "name": "ipython",
    "version": 3
   },
   "file_extension": ".py",
   "mimetype": "text/x-python",
   "name": "python",
   "nbconvert_exporter": "python",
   "pygments_lexer": "ipython3",
   "version": "3.9.6"
  }
 },
 "nbformat": 4,
 "nbformat_minor": 4
}
