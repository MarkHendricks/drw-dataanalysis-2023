{
 "cells": [
  {
   "cell_type": "markdown",
   "id": "00d7ea43",
   "metadata": {},
   "source": [
    "# Solution 3.3\n",
    "\n",
    "## DRW & UofC Quant Foundations\n",
    "### Summer 2023\n",
    "#### Mark Hendricks\n",
    "#### hendricks@uchicago.edu"
   ]
  },
  {
   "cell_type": "markdown",
   "id": "408adb54",
   "metadata": {},
   "source": [
    "# Penalized Regression"
   ]
  },
  {
   "cell_type": "markdown",
   "id": "b9acc684",
   "metadata": {},
   "source": [
    "$$\\newcommand{\\nsecs}{451}$$\n",
    "$$\\newcommand{\\target}{GLD}$$\n",
    "$$\\newcommand{\\spy}{\\text{spy}}$$\n",
    "$$\\newcommand{\\hyg}{\\text{hyg}}$$\n",
    "\n",
    "## Data\n",
    "* This homework uses the file, `data/hw_3_3_data.xlsx`.\n",
    "* Find the data in the Github repo associated with the module, (link on Canvas.)\n",
    "\n",
    "The data file contains...\n",
    "* Return rates, $r^{\\target}_t$, for the \\target, (an ETF,) which tracks the returns on gold.\n",
    "* Return rates, $r^i_t$, for $\\nsecs$ single-name equities.\\footnote{These are all securities in the S\\&P 500 as of June 2022, filtered for names with sufficient return histories.}"
   ]
  },
  {
   "cell_type": "markdown",
   "id": "4c400458",
   "metadata": {},
   "source": [
    "## Model\n",
    "Consider a regression of $\\target$, denoted $r^{\\target}$, on all $\\nsecs$ returns of the S&P 500 stocks.\n",
    "\n",
    "$$\n",
    "r^{\\target}_t = \\alpha + \\sum_{j=1}^k \\beta^j r^j_t + \\epsilon_t\n",
    "\\label{eq:REG}\n",
    "$$\n",
    "\n",
    "We refer to this equation below as the `MODEL`."
   ]
  },
  {
   "cell_type": "markdown",
   "id": "1d6fecaf",
   "metadata": {},
   "source": [
    "# 1. \n",
    "\n",
    "Estimate the `MODEL` with OLS.\n",
    "\n",
    "#### Note\n",
    "For this OLS estimation, along with the estimations below, try using scikit-learn in Python\n",
    "\n",
    "`from sklearn import LinearRegression Lasso Ridge`\n",
    "\n",
    "For OLS specifically, try\n",
    "\n",
    "`model\\_ols = LinearRegression().fit(X,y)`\n",
    "\n",
    "### 1.1. \n",
    "Report the estimated intercept and betas. \n",
    "### 1.2. \n",
    "Report the R-squared.\n",
    "### 1.3. \n",
    "Which factors have the largest betas in explaining $r^{\\target}$?\n",
    "### 1.4. \n",
    "Calculate $\\beta^j \\sigma^j$ for each regressor. Which of these is largest in magnitude, and thus most influential in explaining $r^{\\target}$?\n",
    "\n",
    "#### Note\n",
    "The beta being large may simply be because the regressor volatility is small. By scaling by the volatility, we get a better idea of which regressor is driving the most variation.\n",
    "\n",
    "### 1.5. \n",
    "Report the matrix condition number of $R'R$, where $R$ denotes the matrix of single-name equity return data. Why should this condition number give us pause about trusting the OLS estimates out-of-sample?\n",
    "\n",
    "#### Note\n",
    "To get the matrix condition number, consider using, in Python, `numpy.linalg.cond()`."
   ]
  },
  {
   "cell_type": "markdown",
   "id": "644fece7",
   "metadata": {},
   "source": [
    "# <span style='color:red'>Solution 1</span>"
   ]
  },
  {
   "cell_type": "code",
   "execution_count": 1,
   "id": "f2361fbd",
   "metadata": {},
   "outputs": [],
   "source": [
    "import pandas as pd\n",
    "import numpy as np\n",
    "import statsmodels.api as sm\n",
    "from sklearn.linear_model import LinearRegression, Lasso, Ridge, LassoCV, RidgeCV\n",
    "\n",
    "import matplotlib.pyplot as plt\n",
    "import seaborn as sns"
   ]
  },
  {
   "cell_type": "code",
   "execution_count": 2,
   "id": "71dca963",
   "metadata": {},
   "outputs": [],
   "source": [
    "rets_sp500 = pd.read_excel('../data/hw_3_3_data.xlsx', sheet_name=2, index_col=0)\n",
    "rets_gld = pd.read_excel('../data/hw_3_3_data.xlsx', sheet_name=3, index_col=0)[['GLD']]"
   ]
  },
  {
   "cell_type": "markdown",
   "id": "2c64b0d6",
   "metadata": {},
   "source": [
    "## <span style='color:red'>1.1</span>"
   ]
  },
  {
   "cell_type": "code",
   "execution_count": 3,
   "id": "a6c4915e",
   "metadata": {
    "scrolled": false
   },
   "outputs": [
    {
     "data": {
      "text/html": [
       "<div>\n",
       "<style scoped>\n",
       "    .dataframe tbody tr th:only-of-type {\n",
       "        vertical-align: middle;\n",
       "    }\n",
       "\n",
       "    .dataframe tbody tr th {\n",
       "        vertical-align: top;\n",
       "    }\n",
       "\n",
       "    .dataframe thead th {\n",
       "        text-align: right;\n",
       "    }\n",
       "</style>\n",
       "<table border=\"1\" class=\"dataframe\">\n",
       "  <thead>\n",
       "    <tr style=\"text-align: right;\">\n",
       "      <th></th>\n",
       "      <th>Beta</th>\n",
       "    </tr>\n",
       "  </thead>\n",
       "  <tbody>\n",
       "    <tr>\n",
       "      <th>A</th>\n",
       "      <td>0.065344</td>\n",
       "    </tr>\n",
       "    <tr>\n",
       "      <th>AAP</th>\n",
       "      <td>-0.030014</td>\n",
       "    </tr>\n",
       "    <tr>\n",
       "      <th>AAPL</th>\n",
       "      <td>-0.089102</td>\n",
       "    </tr>\n",
       "    <tr>\n",
       "      <th>ABC</th>\n",
       "      <td>-0.042315</td>\n",
       "    </tr>\n",
       "    <tr>\n",
       "      <th>ABT</th>\n",
       "      <td>0.075335</td>\n",
       "    </tr>\n",
       "    <tr>\n",
       "      <th>...</th>\n",
       "      <td>...</td>\n",
       "    </tr>\n",
       "    <tr>\n",
       "      <th>XYL</th>\n",
       "      <td>0.028848</td>\n",
       "    </tr>\n",
       "    <tr>\n",
       "      <th>YUM</th>\n",
       "      <td>-0.011571</td>\n",
       "    </tr>\n",
       "    <tr>\n",
       "      <th>ZBH</th>\n",
       "      <td>0.005700</td>\n",
       "    </tr>\n",
       "    <tr>\n",
       "      <th>ZBRA</th>\n",
       "      <td>0.054676</td>\n",
       "    </tr>\n",
       "    <tr>\n",
       "      <th>ZION</th>\n",
       "      <td>0.008020</td>\n",
       "    </tr>\n",
       "  </tbody>\n",
       "</table>\n",
       "<p>451 rows × 1 columns</p>\n",
       "</div>"
      ],
      "text/plain": [
       "          Beta\n",
       "A     0.065344\n",
       "AAP  -0.030014\n",
       "AAPL -0.089102\n",
       "ABC  -0.042315\n",
       "ABT   0.075335\n",
       "...        ...\n",
       "XYL   0.028848\n",
       "YUM  -0.011571\n",
       "ZBH   0.005700\n",
       "ZBRA  0.054676\n",
       "ZION  0.008020\n",
       "\n",
       "[451 rows x 1 columns]"
      ]
     },
     "execution_count": 3,
     "metadata": {},
     "output_type": "execute_result"
    }
   ],
   "source": [
    "ols_model = sm.OLS(rets_gld, sm.add_constant(rets_sp500)).fit()\n",
    "\n",
    "# Coefficients\n",
    "coef_ols = ols_model.params[1:].to_frame('Beta')\n",
    "coef_ols"
   ]
  },
  {
   "cell_type": "markdown",
   "id": "0d51ef13",
   "metadata": {},
   "source": [
    "## <span style='color:red'>1.2</span>"
   ]
  },
  {
   "cell_type": "code",
   "execution_count": 4,
   "id": "c4445c29",
   "metadata": {},
   "outputs": [
    {
     "data": {
      "text/plain": [
       "1.0"
      ]
     },
     "execution_count": 4,
     "metadata": {},
     "output_type": "execute_result"
    }
   ],
   "source": [
    "# R-Squared\n",
    "ols_model.rsquared"
   ]
  },
  {
   "cell_type": "markdown",
   "id": "71ee0663",
   "metadata": {},
   "source": [
    "## <span style='color:red'>1.3</span>"
   ]
  },
  {
   "cell_type": "code",
   "execution_count": 5,
   "id": "a48beb46",
   "metadata": {
    "scrolled": true
   },
   "outputs": [
    {
     "data": {
      "text/plain": [
       "NEM     0.159891\n",
       "XOM    -0.152576\n",
       "PM      0.134019\n",
       "USB     0.132334\n",
       "MSFT   -0.132020\n",
       "dtype: float64"
      ]
     },
     "execution_count": 5,
     "metadata": {},
     "output_type": "execute_result"
    }
   ],
   "source": [
    "ols_model.params.loc[lambda x: x.abs().nlargest(5).index]"
   ]
  },
  {
   "cell_type": "markdown",
   "id": "2dcb52d1",
   "metadata": {},
   "source": [
    "## <span style='color:red'>1.4</span>"
   ]
  },
  {
   "cell_type": "code",
   "execution_count": 6,
   "id": "56f5820b",
   "metadata": {},
   "outputs": [
    {
     "data": {
      "text/plain": [
       "NEM    0.007798\n",
       "UAL   -0.006702\n",
       "XOM   -0.005969\n",
       "PHM    0.005465\n",
       "SPG    0.005242\n",
       "dtype: float64"
      ]
     },
     "execution_count": 6,
     "metadata": {},
     "output_type": "execute_result"
    }
   ],
   "source": [
    "sigma_beta_ols = rets_sp500.std() * coef_ols['Beta']\n",
    "\n",
    "sigma_beta_ols.loc[lambda x: x.abs().nlargest(5).index]"
   ]
  },
  {
   "cell_type": "markdown",
   "id": "76ce2289",
   "metadata": {},
   "source": [
    "Scaling by $\\sigma_j$ allows us to have a more useful comparison between regression coefficients. In doing so, we find the largest (in magnitude) of the coefficients, and thus the most influential regressor, is NEM. "
   ]
  },
  {
   "cell_type": "markdown",
   "id": "aa6e51c4",
   "metadata": {},
   "source": [
    "## <span style='color:red'>1.5</span>"
   ]
  },
  {
   "cell_type": "code",
   "execution_count": 7,
   "id": "589a7395",
   "metadata": {},
   "outputs": [
    {
     "data": {
      "text/plain": [
       "6.1330286723879125e+19"
      ]
     },
     "execution_count": 7,
     "metadata": {},
     "output_type": "execute_result"
    }
   ],
   "source": [
    "# Excluding intercept\n",
    "np.linalg.cond(rets_sp500.T @ rets_sp500)"
   ]
  },
  {
   "cell_type": "markdown",
   "id": "9d3e9578",
   "metadata": {},
   "source": [
    "## <span style='color:red'>1.6</span>"
   ]
  },
  {
   "cell_type": "code",
   "execution_count": 8,
   "id": "fbacad53",
   "metadata": {},
   "outputs": [
    {
     "data": {
      "text/plain": [
       "1.955335685452951e+20"
      ]
     },
     "execution_count": 8,
     "metadata": {},
     "output_type": "execute_result"
    }
   ],
   "source": [
    "# Including intercept\n",
    "np.linalg.cond(sm.add_constant(rets_sp500).T @ sm.add_constant(rets_sp500))"
   ]
  },
  {
   "cell_type": "markdown",
   "id": "a6c0cc8e",
   "metadata": {},
   "source": [
    "A large condition number should give us pause as it indicates that very small change in the inputs to our training data would yield very large changes in our model's fitted parameters. In the case of linear regression, a high condition number raises concerns about multicollinearity, which can easily distort both the interpretation of coefficients and their out-of-sample performance. The condition numbers produced here are extremely large."
   ]
  },
  {
   "cell_type": "markdown",
   "id": "be4d3b6e",
   "metadata": {},
   "source": [
    "# 2. \n",
    "\n",
    "Estimate `MODEL` with Ridge Regression. \n",
    "* Use a penalty of 0.5 in the estimation.\n",
    "* Try using `est = Ridge(alpha=0.5).fit(X,y)`\n",
    "\n",
    "### 2.1.\n",
    "Report the R-squared.\n",
    "### 2.2.\n",
    "Based on $\\beta^j \\sigma^j$, which factor is most influential for $r^{\\target}$?"
   ]
  },
  {
   "cell_type": "markdown",
   "id": "e890bc92",
   "metadata": {},
   "source": [
    "# <span style='color:red'>Solution 2</span>"
   ]
  },
  {
   "cell_type": "markdown",
   "id": "c7138e40",
   "metadata": {},
   "source": [
    "## <span style='color:red'>2.1.</span>"
   ]
  },
  {
   "cell_type": "code",
   "execution_count": 9,
   "id": "c9f21fbd",
   "metadata": {},
   "outputs": [
    {
     "data": {
      "text/html": [
       "<div>\n",
       "<style scoped>\n",
       "    .dataframe tbody tr th:only-of-type {\n",
       "        vertical-align: middle;\n",
       "    }\n",
       "\n",
       "    .dataframe tbody tr th {\n",
       "        vertical-align: top;\n",
       "    }\n",
       "\n",
       "    .dataframe thead th {\n",
       "        text-align: right;\n",
       "    }\n",
       "</style>\n",
       "<table border=\"1\" class=\"dataframe\">\n",
       "  <thead>\n",
       "    <tr style=\"text-align: right;\">\n",
       "      <th></th>\n",
       "      <th>Beta</th>\n",
       "    </tr>\n",
       "  </thead>\n",
       "  <tbody>\n",
       "    <tr>\n",
       "      <th>A</th>\n",
       "      <td>0.013014</td>\n",
       "    </tr>\n",
       "    <tr>\n",
       "      <th>AAP</th>\n",
       "      <td>-0.013048</td>\n",
       "    </tr>\n",
       "    <tr>\n",
       "      <th>AAPL</th>\n",
       "      <td>-0.005152</td>\n",
       "    </tr>\n",
       "    <tr>\n",
       "      <th>ABC</th>\n",
       "      <td>-0.005360</td>\n",
       "    </tr>\n",
       "    <tr>\n",
       "      <th>ABT</th>\n",
       "      <td>0.001704</td>\n",
       "    </tr>\n",
       "    <tr>\n",
       "      <th>...</th>\n",
       "      <td>...</td>\n",
       "    </tr>\n",
       "    <tr>\n",
       "      <th>XYL</th>\n",
       "      <td>0.004060</td>\n",
       "    </tr>\n",
       "    <tr>\n",
       "      <th>YUM</th>\n",
       "      <td>0.001713</td>\n",
       "    </tr>\n",
       "    <tr>\n",
       "      <th>ZBH</th>\n",
       "      <td>-0.005478</td>\n",
       "    </tr>\n",
       "    <tr>\n",
       "      <th>ZBRA</th>\n",
       "      <td>0.001794</td>\n",
       "    </tr>\n",
       "    <tr>\n",
       "      <th>ZION</th>\n",
       "      <td>0.005583</td>\n",
       "    </tr>\n",
       "  </tbody>\n",
       "</table>\n",
       "<p>451 rows × 1 columns</p>\n",
       "</div>"
      ],
      "text/plain": [
       "          Beta\n",
       "A     0.013014\n",
       "AAP  -0.013048\n",
       "AAPL -0.005152\n",
       "ABC  -0.005360\n",
       "ABT   0.001704\n",
       "...        ...\n",
       "XYL   0.004060\n",
       "YUM   0.001713\n",
       "ZBH  -0.005478\n",
       "ZBRA  0.001794\n",
       "ZION  0.005583\n",
       "\n",
       "[451 rows x 1 columns]"
      ]
     },
     "execution_count": 9,
     "metadata": {},
     "output_type": "execute_result"
    }
   ],
   "source": [
    "model_Ridge = Ridge(alpha=0.5, fit_intercept=True).fit(rets_sp500, rets_gld)\n",
    "\n",
    "coef_ridge = pd.DataFrame(data=model_Ridge.coef_.reshape(451), index=rets_sp500.columns, columns=['Beta'])\n",
    "coef_ridge"
   ]
  },
  {
   "cell_type": "code",
   "execution_count": 10,
   "id": "c92f4974",
   "metadata": {},
   "outputs": [
    {
     "data": {
      "text/plain": [
       "0.7622443309155419"
      ]
     },
     "execution_count": 10,
     "metadata": {},
     "output_type": "execute_result"
    }
   ],
   "source": [
    "model_Ridge.score(rets_sp500, rets_gld)"
   ]
  },
  {
   "cell_type": "markdown",
   "id": "8e0a5b41",
   "metadata": {},
   "source": [
    "## <span style='color:red'>2.2.</span>"
   ]
  },
  {
   "cell_type": "code",
   "execution_count": 11,
   "id": "388b4d3b",
   "metadata": {},
   "outputs": [
    {
     "data": {
      "text/plain": [
       "NEM     0.005137\n",
       "FCX     0.002314\n",
       "ENPH    0.002027\n",
       "SCHW   -0.001656\n",
       "RHI    -0.001149\n",
       "dtype: float64"
      ]
     },
     "execution_count": 11,
     "metadata": {},
     "output_type": "execute_result"
    }
   ],
   "source": [
    "sigma_beta_ridge = rets_sp500.std() * coef_ridge['Beta']\n",
    "\n",
    "sigma_beta_ridge.loc[lambda x: x.abs().nlargest(5).index]"
   ]
  },
  {
   "cell_type": "markdown",
   "id": "c70dbb25",
   "metadata": {},
   "source": [
    "We find that NEM again seems to be most influential."
   ]
  },
  {
   "cell_type": "markdown",
   "id": "ad1eacc6",
   "metadata": {},
   "source": [
    "# 3. \n",
    "\n",
    "Estimate `MODEL` with LASSO Regression. \n",
    "* Use a penalty of 2e-5 in the estimation.\n",
    "* Try using `est = Lasso(alpha=3e-4).fit(X,y)`\n",
    "\n",
    "### 3.1.\n",
    "Report the estimated intercept and betas. \n",
    "### 3.2.\n",
    "Report the R-squared.\n",
    "### 3.3.\n",
    "Based on $\\beta^j \\sigma^j$, which factor is most influential for $r^{\\target}$?\n",
    "### 3.4.\n",
    "How many regressors have a non-zero beta estimates? "
   ]
  },
  {
   "cell_type": "markdown",
   "id": "7f47c797",
   "metadata": {},
   "source": [
    "# <span style='color:red'>Solution 3</span>"
   ]
  },
  {
   "cell_type": "markdown",
   "id": "0280c505",
   "metadata": {},
   "source": [
    "## <span style='color:red'>3.1.</span>"
   ]
  },
  {
   "cell_type": "code",
   "execution_count": 12,
   "id": "a89abe12",
   "metadata": {},
   "outputs": [
    {
     "data": {
      "text/html": [
       "<div>\n",
       "<style scoped>\n",
       "    .dataframe tbody tr th:only-of-type {\n",
       "        vertical-align: middle;\n",
       "    }\n",
       "\n",
       "    .dataframe tbody tr th {\n",
       "        vertical-align: top;\n",
       "    }\n",
       "\n",
       "    .dataframe thead th {\n",
       "        text-align: right;\n",
       "    }\n",
       "</style>\n",
       "<table border=\"1\" class=\"dataframe\">\n",
       "  <thead>\n",
       "    <tr style=\"text-align: right;\">\n",
       "      <th></th>\n",
       "      <th>Beta</th>\n",
       "    </tr>\n",
       "  </thead>\n",
       "  <tbody>\n",
       "    <tr>\n",
       "      <th>A</th>\n",
       "      <td>0.011062</td>\n",
       "    </tr>\n",
       "    <tr>\n",
       "      <th>AAP</th>\n",
       "      <td>-0.001673</td>\n",
       "    </tr>\n",
       "    <tr>\n",
       "      <th>AAPL</th>\n",
       "      <td>-0.000000</td>\n",
       "    </tr>\n",
       "    <tr>\n",
       "      <th>ABC</th>\n",
       "      <td>-0.001622</td>\n",
       "    </tr>\n",
       "    <tr>\n",
       "      <th>ABT</th>\n",
       "      <td>0.000000</td>\n",
       "    </tr>\n",
       "    <tr>\n",
       "      <th>...</th>\n",
       "      <td>...</td>\n",
       "    </tr>\n",
       "    <tr>\n",
       "      <th>XYL</th>\n",
       "      <td>0.000000</td>\n",
       "    </tr>\n",
       "    <tr>\n",
       "      <th>YUM</th>\n",
       "      <td>-0.000000</td>\n",
       "    </tr>\n",
       "    <tr>\n",
       "      <th>ZBH</th>\n",
       "      <td>-0.000000</td>\n",
       "    </tr>\n",
       "    <tr>\n",
       "      <th>ZBRA</th>\n",
       "      <td>-0.000000</td>\n",
       "    </tr>\n",
       "    <tr>\n",
       "      <th>ZION</th>\n",
       "      <td>0.000000</td>\n",
       "    </tr>\n",
       "  </tbody>\n",
       "</table>\n",
       "<p>451 rows × 1 columns</p>\n",
       "</div>"
      ],
      "text/plain": [
       "          Beta\n",
       "A     0.011062\n",
       "AAP  -0.001673\n",
       "AAPL -0.000000\n",
       "ABC  -0.001622\n",
       "ABT   0.000000\n",
       "...        ...\n",
       "XYL   0.000000\n",
       "YUM  -0.000000\n",
       "ZBH  -0.000000\n",
       "ZBRA -0.000000\n",
       "ZION  0.000000\n",
       "\n",
       "[451 rows x 1 columns]"
      ]
     },
     "execution_count": 12,
     "metadata": {},
     "output_type": "execute_result"
    }
   ],
   "source": [
    "model_Lasso = Lasso(alpha=2e-5, fit_intercept=True).fit(rets_sp500, rets_gld)\n",
    "\n",
    "coef_lasso = pd.DataFrame(data=model_Lasso.coef_.reshape(451), index=rets_sp500.columns, columns=['Beta'])\n",
    "coef_lasso"
   ]
  },
  {
   "cell_type": "markdown",
   "id": "906516da",
   "metadata": {},
   "source": [
    "## <span style='color:red'>3.2.</span>"
   ]
  },
  {
   "cell_type": "code",
   "execution_count": 13,
   "id": "b4757c12",
   "metadata": {},
   "outputs": [
    {
     "data": {
      "text/plain": [
       "0.7541466465557549"
      ]
     },
     "execution_count": 13,
     "metadata": {},
     "output_type": "execute_result"
    }
   ],
   "source": [
    "model_Lasso.score(rets_sp500, rets_gld)"
   ]
  },
  {
   "cell_type": "markdown",
   "id": "25754096",
   "metadata": {},
   "source": [
    "## <span style='color:red'>3.3.</span>"
   ]
  },
  {
   "cell_type": "code",
   "execution_count": 14,
   "id": "4f0e59f3",
   "metadata": {},
   "outputs": [
    {
     "data": {
      "text/plain": [
       "NEM     0.011329\n",
       "SCHW   -0.002511\n",
       "O       0.002376\n",
       "RJF    -0.002057\n",
       "SLB     0.001808\n",
       "dtype: float64"
      ]
     },
     "execution_count": 14,
     "metadata": {},
     "output_type": "execute_result"
    }
   ],
   "source": [
    "sigma_beta_lasso = rets_sp500.std() * coef_lasso['Beta']\n",
    "\n",
    "sigma_beta_lasso.loc[lambda x: x.abs().nlargest(5).index]"
   ]
  },
  {
   "cell_type": "markdown",
   "id": "84cd9b34",
   "metadata": {},
   "source": [
    "NEM is the largest coefficient, and is significantly larger than even the second largest coefficient."
   ]
  },
  {
   "cell_type": "markdown",
   "id": "5e0555de",
   "metadata": {},
   "source": [
    "## <span style='color:red'>3.4.</span>"
   ]
  },
  {
   "cell_type": "code",
   "execution_count": 15,
   "id": "85307c47",
   "metadata": {},
   "outputs": [
    {
     "data": {
      "text/plain": [
       "75"
      ]
     },
     "execution_count": 15,
     "metadata": {},
     "output_type": "execute_result"
    }
   ],
   "source": [
    "(coef_lasso != 0).sum()[0]"
   ]
  },
  {
   "cell_type": "markdown",
   "id": "4e59dca9",
   "metadata": {},
   "source": [
    "# 4.\n",
    "\n",
    "How do the estimations compare across the three methods?\n",
    "\n",
    "### 4.1.\n",
    "Create a histogram of estimated betas across the three methods, (OLS, Ridge, LASSO.) \n",
    "\n",
    "Are they all nonzero? Are there positive and negative values? Do they range widely in magnitude? \n",
    "\n",
    "### 4.2.\n",
    "Which has the largest R-squared? Is this a surprise?"
   ]
  },
  {
   "cell_type": "markdown",
   "id": "f15e895b",
   "metadata": {},
   "source": [
    "# <span style='color:red'>Solution 4</span>"
   ]
  },
  {
   "cell_type": "markdown",
   "id": "c61074ba",
   "metadata": {},
   "source": [
    "## <span style='color:red'>4.1.</span>"
   ]
  },
  {
   "cell_type": "code",
   "execution_count": 16,
   "id": "69637660",
   "metadata": {},
   "outputs": [
    {
     "data": {
      "text/plain": [
       "<Axes: title={'center': 'OLS Coefficients'}, ylabel='Frequency'>"
      ]
     },
     "execution_count": 16,
     "metadata": {},
     "output_type": "execute_result"
    },
    {
     "data": {
      "image/png": "[encoded data removed]",
      "text/plain": [
       "<Figure size 1200x500 with 1 Axes>"
      ]
     },
     "metadata": {},
     "output_type": "display_data"
    }
   ],
   "source": [
    "coef_ols.plot(kind='hist', bins=50, figsize=(12, 5), title='OLS Coefficients')"
   ]
  },
  {
   "cell_type": "code",
   "execution_count": 17,
   "id": "caa3cd1c",
   "metadata": {},
   "outputs": [
    {
     "data": {
      "text/plain": [
       "<Axes: title={'center': 'Ridge Coefficients'}, ylabel='Frequency'>"
      ]
     },
     "execution_count": 17,
     "metadata": {},
     "output_type": "execute_result"
    },
    {
     "data": {
      "image/png": "[encoded data removed]",
      "text/plain": [
       "<Figure size 1200x500 with 1 Axes>"
      ]
     },
     "metadata": {},
     "output_type": "display_data"
    }
   ],
   "source": [
    "coef_ridge.plot(kind='hist', bins=50, figsize=(12, 5), title='Ridge Coefficients')"
   ]
  },
  {
   "cell_type": "code",
   "execution_count": 18,
   "id": "60a17fb0",
   "metadata": {},
   "outputs": [
    {
     "data": {
      "text/plain": [
       "<Axes: title={'center': 'Lasso Coefficients'}, ylabel='Frequency'>"
      ]
     },
     "execution_count": 18,
     "metadata": {},
     "output_type": "execute_result"
    },
    {
     "data": {
      "image/png": "[encoded data removed]",
      "text/plain": [
       "<Figure size 1200x500 with 1 Axes>"
      ]
     },
     "metadata": {},
     "output_type": "display_data"
    }
   ],
   "source": [
    "coef_lasso.plot(kind='hist', bins=50, figsize=(12, 5), title='Lasso Coefficients')"
   ]
  },
  {
   "cell_type": "markdown",
   "id": "d735fb6a",
   "metadata": {},
   "source": [
    "Immediately, it is quite clear that the penalized regressions (Lasso and Ridge) have notably smaller coefficients in general. It is also clear that the penalized regressions tend to push many coefficients towards 0, but some get pushed away from 0. This reflects the notion that the penalties serve to give more \"responsibility\" to certain regressors.\n",
    "\n",
    "Unsurprisingly, all 3 models had coefficients distributed near 0, with Lasso having a significant proportion of them being equal to 0."
   ]
  },
  {
   "cell_type": "markdown",
   "id": "08370f87",
   "metadata": {},
   "source": [
    "## <span style='color:red'>4.2.</span>"
   ]
  },
  {
   "cell_type": "markdown",
   "id": "68aa5e27",
   "metadata": {},
   "source": [
    "From above, we found that OLS had the largest r-squared, which is entirely unsurprising given that this is referring to *in sample* performance. OLS was given far more \"power\" to fit the training data."
   ]
  },
  {
   "cell_type": "markdown",
   "id": "9362a7a7",
   "metadata": {},
   "source": [
    "## 5.\n",
    "\n",
    "Try using cross-validation (with K-folds) to estimate the penalty parameter for Ridge and LASSO.\n",
    "\n",
    "Estimate this CV using two functions from  `sklearn.linear_model`\n",
    "* RidgeCV\n",
    "* LassoCV\n",
    "\n",
    "Feel free to use the default parameters, including the default number of folds.\n",
    "\n",
    "Report the CV penalty parameter for Lasso and Ridge."
   ]
  },
  {
   "cell_type": "markdown",
   "id": "97711f9f",
   "metadata": {},
   "source": [
    "# <span style='color:red'>Solution 5</span>"
   ]
  },
  {
   "cell_type": "code",
   "execution_count": 19,
   "id": "626ec5bd",
   "metadata": {},
   "outputs": [],
   "source": [
    "model_ridge_cv = RidgeCV().fit(rets_sp500, np.ravel(rets_gld))"
   ]
  },
  {
   "cell_type": "code",
   "execution_count": 20,
   "id": "eed107aa",
   "metadata": {},
   "outputs": [
    {
     "data": {
      "text/plain": [
       "0.1"
      ]
     },
     "execution_count": 20,
     "metadata": {},
     "output_type": "execute_result"
    }
   ],
   "source": [
    "model_ridge_cv.alpha_"
   ]
  },
  {
   "cell_type": "code",
   "execution_count": 21,
   "id": "9e8563a3",
   "metadata": {},
   "outputs": [
    {
     "name": "stderr",
     "output_type": "stream",
     "text": [
      "/Users/markhendricks/Projects/drw-dataanalysis-2023/venv/lib/python3.9/site-packages/sklearn/linear_model/_coordinate_descent.py:631: ConvergenceWarning: Objective did not converge. You might want to increase the number of iterations, check the scale of the features or consider increasing regularisation. Duality gap: 1.291e-05, tolerance: 9.567e-06\n",
      "  model = cd_fast.enet_coordinate_descent(\n",
      "/Users/markhendricks/Projects/drw-dataanalysis-2023/venv/lib/python3.9/site-packages/sklearn/linear_model/_coordinate_descent.py:631: ConvergenceWarning: Objective did not converge. You might want to increase the number of iterations, check the scale of the features or consider increasing regularisation. Duality gap: 1.129e-05, tolerance: 9.567e-06\n",
      "  model = cd_fast.enet_coordinate_descent(\n",
      "/Users/markhendricks/Projects/drw-dataanalysis-2023/venv/lib/python3.9/site-packages/sklearn/linear_model/_coordinate_descent.py:631: ConvergenceWarning: Objective did not converge. You might want to increase the number of iterations, check the scale of the features or consider increasing regularisation. Duality gap: 2.669e-05, tolerance: 9.567e-06\n",
      "  model = cd_fast.enet_coordinate_descent(\n",
      "/Users/markhendricks/Projects/drw-dataanalysis-2023/venv/lib/python3.9/site-packages/sklearn/linear_model/_coordinate_descent.py:631: ConvergenceWarning: Objective did not converge. You might want to increase the number of iterations, check the scale of the features or consider increasing regularisation. Duality gap: 5.620e-05, tolerance: 9.567e-06\n",
      "  model = cd_fast.enet_coordinate_descent(\n",
      "/Users/markhendricks/Projects/drw-dataanalysis-2023/venv/lib/python3.9/site-packages/sklearn/linear_model/_coordinate_descent.py:631: ConvergenceWarning: Objective did not converge. You might want to increase the number of iterations, check the scale of the features or consider increasing regularisation. Duality gap: 1.364e-04, tolerance: 9.567e-06\n",
      "  model = cd_fast.enet_coordinate_descent(\n",
      "/Users/markhendricks/Projects/drw-dataanalysis-2023/venv/lib/python3.9/site-packages/sklearn/linear_model/_coordinate_descent.py:631: ConvergenceWarning: Objective did not converge. You might want to increase the number of iterations, check the scale of the features or consider increasing regularisation. Duality gap: 1.062e-04, tolerance: 9.567e-06\n",
      "  model = cd_fast.enet_coordinate_descent(\n",
      "/Users/markhendricks/Projects/drw-dataanalysis-2023/venv/lib/python3.9/site-packages/sklearn/linear_model/_coordinate_descent.py:631: ConvergenceWarning: Objective did not converge. You might want to increase the number of iterations, check the scale of the features or consider increasing regularisation. Duality gap: 5.978e-05, tolerance: 9.567e-06\n",
      "  model = cd_fast.enet_coordinate_descent(\n",
      "/Users/markhendricks/Projects/drw-dataanalysis-2023/venv/lib/python3.9/site-packages/sklearn/linear_model/_coordinate_descent.py:631: ConvergenceWarning: Objective did not converge. You might want to increase the number of iterations, check the scale of the features or consider increasing regularisation. Duality gap: 9.352e-05, tolerance: 9.567e-06\n",
      "  model = cd_fast.enet_coordinate_descent(\n",
      "/Users/markhendricks/Projects/drw-dataanalysis-2023/venv/lib/python3.9/site-packages/sklearn/linear_model/_coordinate_descent.py:631: ConvergenceWarning: Objective did not converge. You might want to increase the number of iterations, check the scale of the features or consider increasing regularisation. Duality gap: 8.297e-05, tolerance: 9.567e-06\n",
      "  model = cd_fast.enet_coordinate_descent(\n",
      "/Users/markhendricks/Projects/drw-dataanalysis-2023/venv/lib/python3.9/site-packages/sklearn/linear_model/_coordinate_descent.py:631: ConvergenceWarning: Objective did not converge. You might want to increase the number of iterations, check the scale of the features or consider increasing regularisation. Duality gap: 8.340e-05, tolerance: 9.567e-06\n",
      "  model = cd_fast.enet_coordinate_descent(\n",
      "/Users/markhendricks/Projects/drw-dataanalysis-2023/venv/lib/python3.9/site-packages/sklearn/linear_model/_coordinate_descent.py:631: ConvergenceWarning: Objective did not converge. You might want to increase the number of iterations, check the scale of the features or consider increasing regularisation. Duality gap: 1.060e-04, tolerance: 9.567e-06\n",
      "  model = cd_fast.enet_coordinate_descent(\n",
      "/Users/markhendricks/Projects/drw-dataanalysis-2023/venv/lib/python3.9/site-packages/sklearn/linear_model/_coordinate_descent.py:631: ConvergenceWarning: Objective did not converge. You might want to increase the number of iterations, check the scale of the features or consider increasing regularisation. Duality gap: 1.020e-04, tolerance: 9.567e-06\n",
      "  model = cd_fast.enet_coordinate_descent(\n",
      "/Users/markhendricks/Projects/drw-dataanalysis-2023/venv/lib/python3.9/site-packages/sklearn/linear_model/_coordinate_descent.py:631: ConvergenceWarning: Objective did not converge. You might want to increase the number of iterations, check the scale of the features or consider increasing regularisation. Duality gap: 8.568e-05, tolerance: 9.567e-06\n",
      "  model = cd_fast.enet_coordinate_descent(\n",
      "/Users/markhendricks/Projects/drw-dataanalysis-2023/venv/lib/python3.9/site-packages/sklearn/linear_model/_coordinate_descent.py:631: ConvergenceWarning: Objective did not converge. You might want to increase the number of iterations, check the scale of the features or consider increasing regularisation. Duality gap: 9.581e-05, tolerance: 9.567e-06\n",
      "  model = cd_fast.enet_coordinate_descent(\n",
      "/Users/markhendricks/Projects/drw-dataanalysis-2023/venv/lib/python3.9/site-packages/sklearn/linear_model/_coordinate_descent.py:631: ConvergenceWarning: Objective did not converge. You might want to increase the number of iterations, check the scale of the features or consider increasing regularisation. Duality gap: 1.403e-04, tolerance: 9.567e-06\n",
      "  model = cd_fast.enet_coordinate_descent(\n",
      "/Users/markhendricks/Projects/drw-dataanalysis-2023/venv/lib/python3.9/site-packages/sklearn/linear_model/_coordinate_descent.py:631: ConvergenceWarning: Objective did not converge. You might want to increase the number of iterations, check the scale of the features or consider increasing regularisation. Duality gap: 1.393e-04, tolerance: 9.567e-06\n",
      "  model = cd_fast.enet_coordinate_descent(\n",
      "/Users/markhendricks/Projects/drw-dataanalysis-2023/venv/lib/python3.9/site-packages/sklearn/linear_model/_coordinate_descent.py:631: ConvergenceWarning: Objective did not converge. You might want to increase the number of iterations, check the scale of the features or consider increasing regularisation. Duality gap: 9.421e-05, tolerance: 9.567e-06\n",
      "  model = cd_fast.enet_coordinate_descent(\n",
      "/Users/markhendricks/Projects/drw-dataanalysis-2023/venv/lib/python3.9/site-packages/sklearn/linear_model/_coordinate_descent.py:631: ConvergenceWarning: Objective did not converge. You might want to increase the number of iterations, check the scale of the features or consider increasing regularisation. Duality gap: 2.131e-04, tolerance: 9.567e-06\n",
      "  model = cd_fast.enet_coordinate_descent(\n",
      "/Users/markhendricks/Projects/drw-dataanalysis-2023/venv/lib/python3.9/site-packages/sklearn/linear_model/_coordinate_descent.py:631: ConvergenceWarning: Objective did not converge. You might want to increase the number of iterations, check the scale of the features or consider increasing regularisation. Duality gap: 3.767e-04, tolerance: 9.567e-06\n",
      "  model = cd_fast.enet_coordinate_descent(\n",
      "/Users/markhendricks/Projects/drw-dataanalysis-2023/venv/lib/python3.9/site-packages/sklearn/linear_model/_coordinate_descent.py:631: ConvergenceWarning: Objective did not converge. You might want to increase the number of iterations, check the scale of the features or consider increasing regularisation. Duality gap: 2.754e-04, tolerance: 9.567e-06\n",
      "  model = cd_fast.enet_coordinate_descent(\n",
      "/Users/markhendricks/Projects/drw-dataanalysis-2023/venv/lib/python3.9/site-packages/sklearn/linear_model/_coordinate_descent.py:631: ConvergenceWarning: Objective did not converge. You might want to increase the number of iterations, check the scale of the features or consider increasing regularisation. Duality gap: 3.324e-04, tolerance: 9.567e-06\n",
      "  model = cd_fast.enet_coordinate_descent(\n",
      "/Users/markhendricks/Projects/drw-dataanalysis-2023/venv/lib/python3.9/site-packages/sklearn/linear_model/_coordinate_descent.py:631: ConvergenceWarning: Objective did not converge. You might want to increase the number of iterations, check the scale of the features or consider increasing regularisation. Duality gap: 4.325e-04, tolerance: 9.567e-06\n",
      "  model = cd_fast.enet_coordinate_descent(\n",
      "/Users/markhendricks/Projects/drw-dataanalysis-2023/venv/lib/python3.9/site-packages/sklearn/linear_model/_coordinate_descent.py:631: ConvergenceWarning: Objective did not converge. You might want to increase the number of iterations, check the scale of the features or consider increasing regularisation. Duality gap: 3.764e-04, tolerance: 9.567e-06\n",
      "  model = cd_fast.enet_coordinate_descent(\n",
      "/Users/markhendricks/Projects/drw-dataanalysis-2023/venv/lib/python3.9/site-packages/sklearn/linear_model/_coordinate_descent.py:631: ConvergenceWarning: Objective did not converge. You might want to increase the number of iterations, check the scale of the features or consider increasing regularisation. Duality gap: 3.689e-04, tolerance: 9.567e-06\n",
      "  model = cd_fast.enet_coordinate_descent(\n",
      "/Users/markhendricks/Projects/drw-dataanalysis-2023/venv/lib/python3.9/site-packages/sklearn/linear_model/_coordinate_descent.py:631: ConvergenceWarning: Objective did not converge. You might want to increase the number of iterations, check the scale of the features or consider increasing regularisation. Duality gap: 3.840e-04, tolerance: 9.567e-06\n",
      "  model = cd_fast.enet_coordinate_descent(\n",
      "/Users/markhendricks/Projects/drw-dataanalysis-2023/venv/lib/python3.9/site-packages/sklearn/linear_model/_coordinate_descent.py:631: ConvergenceWarning: Objective did not converge. You might want to increase the number of iterations, check the scale of the features or consider increasing regularisation. Duality gap: 5.103e-04, tolerance: 9.567e-06\n",
      "  model = cd_fast.enet_coordinate_descent(\n",
      "/Users/markhendricks/Projects/drw-dataanalysis-2023/venv/lib/python3.9/site-packages/sklearn/linear_model/_coordinate_descent.py:631: ConvergenceWarning: Objective did not converge. You might want to increase the number of iterations, check the scale of the features or consider increasing regularisation. Duality gap: 5.083e-04, tolerance: 9.567e-06\n",
      "  model = cd_fast.enet_coordinate_descent(\n",
      "/Users/markhendricks/Projects/drw-dataanalysis-2023/venv/lib/python3.9/site-packages/sklearn/linear_model/_coordinate_descent.py:631: ConvergenceWarning: Objective did not converge. You might want to increase the number of iterations, check the scale of the features or consider increasing regularisation. Duality gap: 5.047e-04, tolerance: 9.567e-06\n",
      "  model = cd_fast.enet_coordinate_descent(\n",
      "/Users/markhendricks/Projects/drw-dataanalysis-2023/venv/lib/python3.9/site-packages/sklearn/linear_model/_coordinate_descent.py:631: ConvergenceWarning: Objective did not converge. You might want to increase the number of iterations, check the scale of the features or consider increasing regularisation. Duality gap: 4.733e-04, tolerance: 9.567e-06\n",
      "  model = cd_fast.enet_coordinate_descent(\n",
      "/Users/markhendricks/Projects/drw-dataanalysis-2023/venv/lib/python3.9/site-packages/sklearn/linear_model/_coordinate_descent.py:631: ConvergenceWarning: Objective did not converge. You might want to increase the number of iterations, check the scale of the features or consider increasing regularisation. Duality gap: 4.515e-04, tolerance: 9.567e-06\n",
      "  model = cd_fast.enet_coordinate_descent(\n",
      "/Users/markhendricks/Projects/drw-dataanalysis-2023/venv/lib/python3.9/site-packages/sklearn/linear_model/_coordinate_descent.py:631: ConvergenceWarning: Objective did not converge. You might want to increase the number of iterations, check the scale of the features or consider increasing regularisation. Duality gap: 4.440e-04, tolerance: 9.567e-06\n",
      "  model = cd_fast.enet_coordinate_descent(\n",
      "/Users/markhendricks/Projects/drw-dataanalysis-2023/venv/lib/python3.9/site-packages/sklearn/linear_model/_coordinate_descent.py:631: ConvergenceWarning: Objective did not converge. You might want to increase the number of iterations, check the scale of the features or consider increasing regularisation. Duality gap: 4.929e-04, tolerance: 9.567e-06\n",
      "  model = cd_fast.enet_coordinate_descent(\n",
      "/Users/markhendricks/Projects/drw-dataanalysis-2023/venv/lib/python3.9/site-packages/sklearn/linear_model/_coordinate_descent.py:631: ConvergenceWarning: Objective did not converge. You might want to increase the number of iterations, check the scale of the features or consider increasing regularisation. Duality gap: 5.013e-04, tolerance: 9.567e-06\n",
      "  model = cd_fast.enet_coordinate_descent(\n"
     ]
    },
    {
     "name": "stderr",
     "output_type": "stream",
     "text": [
      "/Users/markhendricks/Projects/drw-dataanalysis-2023/venv/lib/python3.9/site-packages/sklearn/linear_model/_coordinate_descent.py:631: ConvergenceWarning: Objective did not converge. You might want to increase the number of iterations, check the scale of the features or consider increasing regularisation. Duality gap: 4.308e-04, tolerance: 9.567e-06\n",
      "  model = cd_fast.enet_coordinate_descent(\n",
      "/Users/markhendricks/Projects/drw-dataanalysis-2023/venv/lib/python3.9/site-packages/sklearn/linear_model/_coordinate_descent.py:631: ConvergenceWarning: Objective did not converge. You might want to increase the number of iterations, check the scale of the features or consider increasing regularisation. Duality gap: 3.108e-04, tolerance: 9.567e-06\n",
      "  model = cd_fast.enet_coordinate_descent(\n",
      "/Users/markhendricks/Projects/drw-dataanalysis-2023/venv/lib/python3.9/site-packages/sklearn/linear_model/_coordinate_descent.py:631: ConvergenceWarning: Objective did not converge. You might want to increase the number of iterations, check the scale of the features or consider increasing regularisation. Duality gap: 2.402e-04, tolerance: 9.567e-06\n",
      "  model = cd_fast.enet_coordinate_descent(\n",
      "/Users/markhendricks/Projects/drw-dataanalysis-2023/venv/lib/python3.9/site-packages/sklearn/linear_model/_coordinate_descent.py:631: ConvergenceWarning: Objective did not converge. You might want to increase the number of iterations, check the scale of the features or consider increasing regularisation. Duality gap: 3.274e-04, tolerance: 9.567e-06\n",
      "  model = cd_fast.enet_coordinate_descent(\n",
      "/Users/markhendricks/Projects/drw-dataanalysis-2023/venv/lib/python3.9/site-packages/sklearn/linear_model/_coordinate_descent.py:631: ConvergenceWarning: Objective did not converge. You might want to increase the number of iterations, check the scale of the features or consider increasing regularisation. Duality gap: 3.386e-04, tolerance: 9.567e-06\n",
      "  model = cd_fast.enet_coordinate_descent(\n",
      "/Users/markhendricks/Projects/drw-dataanalysis-2023/venv/lib/python3.9/site-packages/sklearn/linear_model/_coordinate_descent.py:631: ConvergenceWarning: Objective did not converge. You might want to increase the number of iterations, check the scale of the features or consider increasing regularisation. Duality gap: 2.563e-04, tolerance: 9.567e-06\n",
      "  model = cd_fast.enet_coordinate_descent(\n",
      "/Users/markhendricks/Projects/drw-dataanalysis-2023/venv/lib/python3.9/site-packages/sklearn/linear_model/_coordinate_descent.py:631: ConvergenceWarning: Objective did not converge. You might want to increase the number of iterations, check the scale of the features or consider increasing regularisation. Duality gap: 2.332e-04, tolerance: 9.567e-06\n",
      "  model = cd_fast.enet_coordinate_descent(\n",
      "/Users/markhendricks/Projects/drw-dataanalysis-2023/venv/lib/python3.9/site-packages/sklearn/linear_model/_coordinate_descent.py:631: ConvergenceWarning: Objective did not converge. You might want to increase the number of iterations, check the scale of the features or consider increasing regularisation. Duality gap: 1.879e-04, tolerance: 9.567e-06\n",
      "  model = cd_fast.enet_coordinate_descent(\n",
      "/Users/markhendricks/Projects/drw-dataanalysis-2023/venv/lib/python3.9/site-packages/sklearn/linear_model/_coordinate_descent.py:631: ConvergenceWarning: Objective did not converge. You might want to increase the number of iterations, check the scale of the features or consider increasing regularisation. Duality gap: 1.653e-04, tolerance: 9.567e-06\n",
      "  model = cd_fast.enet_coordinate_descent(\n",
      "/Users/markhendricks/Projects/drw-dataanalysis-2023/venv/lib/python3.9/site-packages/sklearn/linear_model/_coordinate_descent.py:631: ConvergenceWarning: Objective did not converge. You might want to increase the number of iterations, check the scale of the features or consider increasing regularisation. Duality gap: 2.018e-04, tolerance: 9.567e-06\n",
      "  model = cd_fast.enet_coordinate_descent(\n",
      "/Users/markhendricks/Projects/drw-dataanalysis-2023/venv/lib/python3.9/site-packages/sklearn/linear_model/_coordinate_descent.py:631: ConvergenceWarning: Objective did not converge. You might want to increase the number of iterations, check the scale of the features or consider increasing regularisation. Duality gap: 2.113e-04, tolerance: 9.567e-06\n",
      "  model = cd_fast.enet_coordinate_descent(\n",
      "/Users/markhendricks/Projects/drw-dataanalysis-2023/venv/lib/python3.9/site-packages/sklearn/linear_model/_coordinate_descent.py:631: ConvergenceWarning: Objective did not converge. You might want to increase the number of iterations, check the scale of the features or consider increasing regularisation. Duality gap: 2.008e-04, tolerance: 9.567e-06\n",
      "  model = cd_fast.enet_coordinate_descent(\n",
      "/Users/markhendricks/Projects/drw-dataanalysis-2023/venv/lib/python3.9/site-packages/sklearn/linear_model/_coordinate_descent.py:631: ConvergenceWarning: Objective did not converge. You might want to increase the number of iterations, check the scale of the features or consider increasing regularisation. Duality gap: 2.257e-04, tolerance: 9.567e-06\n",
      "  model = cd_fast.enet_coordinate_descent(\n",
      "/Users/markhendricks/Projects/drw-dataanalysis-2023/venv/lib/python3.9/site-packages/sklearn/linear_model/_coordinate_descent.py:631: ConvergenceWarning: Objective did not converge. You might want to increase the number of iterations, check the scale of the features or consider increasing regularisation. Duality gap: 2.198e-04, tolerance: 9.567e-06\n",
      "  model = cd_fast.enet_coordinate_descent(\n",
      "/Users/markhendricks/Projects/drw-dataanalysis-2023/venv/lib/python3.9/site-packages/sklearn/linear_model/_coordinate_descent.py:631: ConvergenceWarning: Objective did not converge. You might want to increase the number of iterations, check the scale of the features or consider increasing regularisation. Duality gap: 2.138e-04, tolerance: 9.567e-06\n",
      "  model = cd_fast.enet_coordinate_descent(\n",
      "/Users/markhendricks/Projects/drw-dataanalysis-2023/venv/lib/python3.9/site-packages/sklearn/linear_model/_coordinate_descent.py:631: ConvergenceWarning: Objective did not converge. You might want to increase the number of iterations, check the scale of the features or consider increasing regularisation. Duality gap: 1.925e-04, tolerance: 9.567e-06\n",
      "  model = cd_fast.enet_coordinate_descent(\n",
      "/Users/markhendricks/Projects/drw-dataanalysis-2023/venv/lib/python3.9/site-packages/sklearn/linear_model/_coordinate_descent.py:631: ConvergenceWarning: Objective did not converge. You might want to increase the number of iterations, check the scale of the features or consider increasing regularisation. Duality gap: 1.993e-04, tolerance: 9.567e-06\n",
      "  model = cd_fast.enet_coordinate_descent(\n",
      "/Users/markhendricks/Projects/drw-dataanalysis-2023/venv/lib/python3.9/site-packages/sklearn/linear_model/_coordinate_descent.py:631: ConvergenceWarning: Objective did not converge. You might want to increase the number of iterations, check the scale of the features or consider increasing regularisation. Duality gap: 1.691e-04, tolerance: 9.567e-06\n",
      "  model = cd_fast.enet_coordinate_descent(\n",
      "/Users/markhendricks/Projects/drw-dataanalysis-2023/venv/lib/python3.9/site-packages/sklearn/linear_model/_coordinate_descent.py:631: ConvergenceWarning: Objective did not converge. You might want to increase the number of iterations, check the scale of the features or consider increasing regularisation. Duality gap: 1.913e-04, tolerance: 9.567e-06\n",
      "  model = cd_fast.enet_coordinate_descent(\n",
      "/Users/markhendricks/Projects/drw-dataanalysis-2023/venv/lib/python3.9/site-packages/sklearn/linear_model/_coordinate_descent.py:631: ConvergenceWarning: Objective did not converge. You might want to increase the number of iterations, check the scale of the features or consider increasing regularisation. Duality gap: 2.268e-04, tolerance: 9.567e-06\n",
      "  model = cd_fast.enet_coordinate_descent(\n",
      "/Users/markhendricks/Projects/drw-dataanalysis-2023/venv/lib/python3.9/site-packages/sklearn/linear_model/_coordinate_descent.py:631: ConvergenceWarning: Objective did not converge. You might want to increase the number of iterations, check the scale of the features or consider increasing regularisation. Duality gap: 2.315e-04, tolerance: 9.567e-06\n",
      "  model = cd_fast.enet_coordinate_descent(\n",
      "/Users/markhendricks/Projects/drw-dataanalysis-2023/venv/lib/python3.9/site-packages/sklearn/linear_model/_coordinate_descent.py:631: ConvergenceWarning: Objective did not converge. You might want to increase the number of iterations, check the scale of the features or consider increasing regularisation. Duality gap: 1.614e-05, tolerance: 1.118e-05\n",
      "  model = cd_fast.enet_coordinate_descent(\n",
      "/Users/markhendricks/Projects/drw-dataanalysis-2023/venv/lib/python3.9/site-packages/sklearn/linear_model/_coordinate_descent.py:631: ConvergenceWarning: Objective did not converge. You might want to increase the number of iterations, check the scale of the features or consider increasing regularisation. Duality gap: 6.714e-05, tolerance: 1.118e-05\n",
      "  model = cd_fast.enet_coordinate_descent(\n",
      "/Users/markhendricks/Projects/drw-dataanalysis-2023/venv/lib/python3.9/site-packages/sklearn/linear_model/_coordinate_descent.py:631: ConvergenceWarning: Objective did not converge. You might want to increase the number of iterations, check the scale of the features or consider increasing regularisation. Duality gap: 6.300e-05, tolerance: 1.118e-05\n",
      "  model = cd_fast.enet_coordinate_descent(\n",
      "/Users/markhendricks/Projects/drw-dataanalysis-2023/venv/lib/python3.9/site-packages/sklearn/linear_model/_coordinate_descent.py:631: ConvergenceWarning: Objective did not converge. You might want to increase the number of iterations, check the scale of the features or consider increasing regularisation. Duality gap: 6.170e-05, tolerance: 1.118e-05\n",
      "  model = cd_fast.enet_coordinate_descent(\n",
      "/Users/markhendricks/Projects/drw-dataanalysis-2023/venv/lib/python3.9/site-packages/sklearn/linear_model/_coordinate_descent.py:631: ConvergenceWarning: Objective did not converge. You might want to increase the number of iterations, check the scale of the features or consider increasing regularisation. Duality gap: 6.287e-05, tolerance: 1.118e-05\n",
      "  model = cd_fast.enet_coordinate_descent(\n",
      "/Users/markhendricks/Projects/drw-dataanalysis-2023/venv/lib/python3.9/site-packages/sklearn/linear_model/_coordinate_descent.py:631: ConvergenceWarning: Objective did not converge. You might want to increase the number of iterations, check the scale of the features or consider increasing regularisation. Duality gap: 4.283e-05, tolerance: 1.118e-05\n",
      "  model = cd_fast.enet_coordinate_descent(\n",
      "/Users/markhendricks/Projects/drw-dataanalysis-2023/venv/lib/python3.9/site-packages/sklearn/linear_model/_coordinate_descent.py:631: ConvergenceWarning: Objective did not converge. You might want to increase the number of iterations, check the scale of the features or consider increasing regularisation. Duality gap: 1.273e-04, tolerance: 1.118e-05\n",
      "  model = cd_fast.enet_coordinate_descent(\n",
      "/Users/markhendricks/Projects/drw-dataanalysis-2023/venv/lib/python3.9/site-packages/sklearn/linear_model/_coordinate_descent.py:631: ConvergenceWarning: Objective did not converge. You might want to increase the number of iterations, check the scale of the features or consider increasing regularisation. Duality gap: 1.513e-04, tolerance: 1.118e-05\n",
      "  model = cd_fast.enet_coordinate_descent(\n",
      "/Users/markhendricks/Projects/drw-dataanalysis-2023/venv/lib/python3.9/site-packages/sklearn/linear_model/_coordinate_descent.py:631: ConvergenceWarning: Objective did not converge. You might want to increase the number of iterations, check the scale of the features or consider increasing regularisation. Duality gap: 1.242e-04, tolerance: 1.118e-05\n",
      "  model = cd_fast.enet_coordinate_descent(\n"
     ]
    },
    {
     "name": "stderr",
     "output_type": "stream",
     "text": [
      "/Users/markhendricks/Projects/drw-dataanalysis-2023/venv/lib/python3.9/site-packages/sklearn/linear_model/_coordinate_descent.py:631: ConvergenceWarning: Objective did not converge. You might want to increase the number of iterations, check the scale of the features or consider increasing regularisation. Duality gap: 1.229e-04, tolerance: 1.118e-05\n",
      "  model = cd_fast.enet_coordinate_descent(\n",
      "/Users/markhendricks/Projects/drw-dataanalysis-2023/venv/lib/python3.9/site-packages/sklearn/linear_model/_coordinate_descent.py:631: ConvergenceWarning: Objective did not converge. You might want to increase the number of iterations, check the scale of the features or consider increasing regularisation. Duality gap: 1.234e-04, tolerance: 1.118e-05\n",
      "  model = cd_fast.enet_coordinate_descent(\n",
      "/Users/markhendricks/Projects/drw-dataanalysis-2023/venv/lib/python3.9/site-packages/sklearn/linear_model/_coordinate_descent.py:631: ConvergenceWarning: Objective did not converge. You might want to increase the number of iterations, check the scale of the features or consider increasing regularisation. Duality gap: 1.293e-04, tolerance: 1.118e-05\n",
      "  model = cd_fast.enet_coordinate_descent(\n",
      "/Users/markhendricks/Projects/drw-dataanalysis-2023/venv/lib/python3.9/site-packages/sklearn/linear_model/_coordinate_descent.py:631: ConvergenceWarning: Objective did not converge. You might want to increase the number of iterations, check the scale of the features or consider increasing regularisation. Duality gap: 1.105e-04, tolerance: 1.118e-05\n",
      "  model = cd_fast.enet_coordinate_descent(\n",
      "/Users/markhendricks/Projects/drw-dataanalysis-2023/venv/lib/python3.9/site-packages/sklearn/linear_model/_coordinate_descent.py:631: ConvergenceWarning: Objective did not converge. You might want to increase the number of iterations, check the scale of the features or consider increasing regularisation. Duality gap: 1.290e-04, tolerance: 1.118e-05\n",
      "  model = cd_fast.enet_coordinate_descent(\n",
      "/Users/markhendricks/Projects/drw-dataanalysis-2023/venv/lib/python3.9/site-packages/sklearn/linear_model/_coordinate_descent.py:631: ConvergenceWarning: Objective did not converge. You might want to increase the number of iterations, check the scale of the features or consider increasing regularisation. Duality gap: 1.203e-04, tolerance: 1.118e-05\n",
      "  model = cd_fast.enet_coordinate_descent(\n",
      "/Users/markhendricks/Projects/drw-dataanalysis-2023/venv/lib/python3.9/site-packages/sklearn/linear_model/_coordinate_descent.py:631: ConvergenceWarning: Objective did not converge. You might want to increase the number of iterations, check the scale of the features or consider increasing regularisation. Duality gap: 9.408e-05, tolerance: 1.118e-05\n",
      "  model = cd_fast.enet_coordinate_descent(\n",
      "/Users/markhendricks/Projects/drw-dataanalysis-2023/venv/lib/python3.9/site-packages/sklearn/linear_model/_coordinate_descent.py:631: ConvergenceWarning: Objective did not converge. You might want to increase the number of iterations, check the scale of the features or consider increasing regularisation. Duality gap: 9.338e-05, tolerance: 1.118e-05\n",
      "  model = cd_fast.enet_coordinate_descent(\n",
      "/Users/markhendricks/Projects/drw-dataanalysis-2023/venv/lib/python3.9/site-packages/sklearn/linear_model/_coordinate_descent.py:631: ConvergenceWarning: Objective did not converge. You might want to increase the number of iterations, check the scale of the features or consider increasing regularisation. Duality gap: 9.329e-05, tolerance: 1.118e-05\n",
      "  model = cd_fast.enet_coordinate_descent(\n",
      "/Users/markhendricks/Projects/drw-dataanalysis-2023/venv/lib/python3.9/site-packages/sklearn/linear_model/_coordinate_descent.py:631: ConvergenceWarning: Objective did not converge. You might want to increase the number of iterations, check the scale of the features or consider increasing regularisation. Duality gap: 1.330e-04, tolerance: 1.118e-05\n",
      "  model = cd_fast.enet_coordinate_descent(\n",
      "/Users/markhendricks/Projects/drw-dataanalysis-2023/venv/lib/python3.9/site-packages/sklearn/linear_model/_coordinate_descent.py:631: ConvergenceWarning: Objective did not converge. You might want to increase the number of iterations, check the scale of the features or consider increasing regularisation. Duality gap: 1.147e-04, tolerance: 1.118e-05\n",
      "  model = cd_fast.enet_coordinate_descent(\n",
      "/Users/markhendricks/Projects/drw-dataanalysis-2023/venv/lib/python3.9/site-packages/sklearn/linear_model/_coordinate_descent.py:631: ConvergenceWarning: Objective did not converge. You might want to increase the number of iterations, check the scale of the features or consider increasing regularisation. Duality gap: 1.636e-04, tolerance: 1.118e-05\n",
      "  model = cd_fast.enet_coordinate_descent(\n",
      "/Users/markhendricks/Projects/drw-dataanalysis-2023/venv/lib/python3.9/site-packages/sklearn/linear_model/_coordinate_descent.py:631: ConvergenceWarning: Objective did not converge. You might want to increase the number of iterations, check the scale of the features or consider increasing regularisation. Duality gap: 3.291e-04, tolerance: 1.118e-05\n",
      "  model = cd_fast.enet_coordinate_descent(\n",
      "/Users/markhendricks/Projects/drw-dataanalysis-2023/venv/lib/python3.9/site-packages/sklearn/linear_model/_coordinate_descent.py:631: ConvergenceWarning: Objective did not converge. You might want to increase the number of iterations, check the scale of the features or consider increasing regularisation. Duality gap: 2.898e-04, tolerance: 1.118e-05\n",
      "  model = cd_fast.enet_coordinate_descent(\n",
      "/Users/markhendricks/Projects/drw-dataanalysis-2023/venv/lib/python3.9/site-packages/sklearn/linear_model/_coordinate_descent.py:631: ConvergenceWarning: Objective did not converge. You might want to increase the number of iterations, check the scale of the features or consider increasing regularisation. Duality gap: 2.150e-04, tolerance: 1.118e-05\n",
      "  model = cd_fast.enet_coordinate_descent(\n",
      "/Users/markhendricks/Projects/drw-dataanalysis-2023/venv/lib/python3.9/site-packages/sklearn/linear_model/_coordinate_descent.py:631: ConvergenceWarning: Objective did not converge. You might want to increase the number of iterations, check the scale of the features or consider increasing regularisation. Duality gap: 1.760e-04, tolerance: 1.118e-05\n",
      "  model = cd_fast.enet_coordinate_descent(\n",
      "/Users/markhendricks/Projects/drw-dataanalysis-2023/venv/lib/python3.9/site-packages/sklearn/linear_model/_coordinate_descent.py:631: ConvergenceWarning: Objective did not converge. You might want to increase the number of iterations, check the scale of the features or consider increasing regularisation. Duality gap: 1.928e-04, tolerance: 1.118e-05\n",
      "  model = cd_fast.enet_coordinate_descent(\n",
      "/Users/markhendricks/Projects/drw-dataanalysis-2023/venv/lib/python3.9/site-packages/sklearn/linear_model/_coordinate_descent.py:631: ConvergenceWarning: Objective did not converge. You might want to increase the number of iterations, check the scale of the features or consider increasing regularisation. Duality gap: 2.729e-04, tolerance: 1.118e-05\n",
      "  model = cd_fast.enet_coordinate_descent(\n",
      "/Users/markhendricks/Projects/drw-dataanalysis-2023/venv/lib/python3.9/site-packages/sklearn/linear_model/_coordinate_descent.py:631: ConvergenceWarning: Objective did not converge. You might want to increase the number of iterations, check the scale of the features or consider increasing regularisation. Duality gap: 2.073e-04, tolerance: 1.118e-05\n",
      "  model = cd_fast.enet_coordinate_descent(\n",
      "/Users/markhendricks/Projects/drw-dataanalysis-2023/venv/lib/python3.9/site-packages/sklearn/linear_model/_coordinate_descent.py:631: ConvergenceWarning: Objective did not converge. You might want to increase the number of iterations, check the scale of the features or consider increasing regularisation. Duality gap: 2.005e-04, tolerance: 1.118e-05\n",
      "  model = cd_fast.enet_coordinate_descent(\n",
      "/Users/markhendricks/Projects/drw-dataanalysis-2023/venv/lib/python3.9/site-packages/sklearn/linear_model/_coordinate_descent.py:631: ConvergenceWarning: Objective did not converge. You might want to increase the number of iterations, check the scale of the features or consider increasing regularisation. Duality gap: 1.820e-04, tolerance: 1.118e-05\n",
      "  model = cd_fast.enet_coordinate_descent(\n",
      "/Users/markhendricks/Projects/drw-dataanalysis-2023/venv/lib/python3.9/site-packages/sklearn/linear_model/_coordinate_descent.py:631: ConvergenceWarning: Objective did not converge. You might want to increase the number of iterations, check the scale of the features or consider increasing regularisation. Duality gap: 1.920e-04, tolerance: 1.118e-05\n",
      "  model = cd_fast.enet_coordinate_descent(\n",
      "/Users/markhendricks/Projects/drw-dataanalysis-2023/venv/lib/python3.9/site-packages/sklearn/linear_model/_coordinate_descent.py:631: ConvergenceWarning: Objective did not converge. You might want to increase the number of iterations, check the scale of the features or consider increasing regularisation. Duality gap: 2.493e-04, tolerance: 1.118e-05\n",
      "  model = cd_fast.enet_coordinate_descent(\n",
      "/Users/markhendricks/Projects/drw-dataanalysis-2023/venv/lib/python3.9/site-packages/sklearn/linear_model/_coordinate_descent.py:631: ConvergenceWarning: Objective did not converge. You might want to increase the number of iterations, check the scale of the features or consider increasing regularisation. Duality gap: 2.935e-04, tolerance: 1.118e-05\n",
      "  model = cd_fast.enet_coordinate_descent(\n",
      "/Users/markhendricks/Projects/drw-dataanalysis-2023/venv/lib/python3.9/site-packages/sklearn/linear_model/_coordinate_descent.py:631: ConvergenceWarning: Objective did not converge. You might want to increase the number of iterations, check the scale of the features or consider increasing regularisation. Duality gap: 3.452e-04, tolerance: 1.118e-05\n",
      "  model = cd_fast.enet_coordinate_descent(\n",
      "/Users/markhendricks/Projects/drw-dataanalysis-2023/venv/lib/python3.9/site-packages/sklearn/linear_model/_coordinate_descent.py:631: ConvergenceWarning: Objective did not converge. You might want to increase the number of iterations, check the scale of the features or consider increasing regularisation. Duality gap: 4.434e-04, tolerance: 1.118e-05\n",
      "  model = cd_fast.enet_coordinate_descent(\n",
      "/Users/markhendricks/Projects/drw-dataanalysis-2023/venv/lib/python3.9/site-packages/sklearn/linear_model/_coordinate_descent.py:631: ConvergenceWarning: Objective did not converge. You might want to increase the number of iterations, check the scale of the features or consider increasing regularisation. Duality gap: 3.886e-04, tolerance: 1.118e-05\n",
      "  model = cd_fast.enet_coordinate_descent(\n",
      "/Users/markhendricks/Projects/drw-dataanalysis-2023/venv/lib/python3.9/site-packages/sklearn/linear_model/_coordinate_descent.py:631: ConvergenceWarning: Objective did not converge. You might want to increase the number of iterations, check the scale of the features or consider increasing regularisation. Duality gap: 3.351e-04, tolerance: 1.118e-05\n",
      "  model = cd_fast.enet_coordinate_descent(\n",
      "/Users/markhendricks/Projects/drw-dataanalysis-2023/venv/lib/python3.9/site-packages/sklearn/linear_model/_coordinate_descent.py:631: ConvergenceWarning: Objective did not converge. You might want to increase the number of iterations, check the scale of the features or consider increasing regularisation. Duality gap: 3.717e-04, tolerance: 1.118e-05\n",
      "  model = cd_fast.enet_coordinate_descent(\n",
      "/Users/markhendricks/Projects/drw-dataanalysis-2023/venv/lib/python3.9/site-packages/sklearn/linear_model/_coordinate_descent.py:631: ConvergenceWarning: Objective did not converge. You might want to increase the number of iterations, check the scale of the features or consider increasing regularisation. Duality gap: 4.073e-04, tolerance: 1.118e-05\n",
      "  model = cd_fast.enet_coordinate_descent(\n",
      "/Users/markhendricks/Projects/drw-dataanalysis-2023/venv/lib/python3.9/site-packages/sklearn/linear_model/_coordinate_descent.py:631: ConvergenceWarning: Objective did not converge. You might want to increase the number of iterations, check the scale of the features or consider increasing regularisation. Duality gap: 5.725e-04, tolerance: 1.118e-05\n",
      "  model = cd_fast.enet_coordinate_descent(\n",
      "/Users/markhendricks/Projects/drw-dataanalysis-2023/venv/lib/python3.9/site-packages/sklearn/linear_model/_coordinate_descent.py:631: ConvergenceWarning: Objective did not converge. You might want to increase the number of iterations, check the scale of the features or consider increasing regularisation. Duality gap: 5.395e-04, tolerance: 1.118e-05\n",
      "  model = cd_fast.enet_coordinate_descent(\n",
      "/Users/markhendricks/Projects/drw-dataanalysis-2023/venv/lib/python3.9/site-packages/sklearn/linear_model/_coordinate_descent.py:631: ConvergenceWarning: Objective did not converge. You might want to increase the number of iterations, check the scale of the features or consider increasing regularisation. Duality gap: 4.917e-04, tolerance: 1.118e-05\n",
      "  model = cd_fast.enet_coordinate_descent(\n",
      "/Users/markhendricks/Projects/drw-dataanalysis-2023/venv/lib/python3.9/site-packages/sklearn/linear_model/_coordinate_descent.py:631: ConvergenceWarning: Objective did not converge. You might want to increase the number of iterations, check the scale of the features or consider increasing regularisation. Duality gap: 5.351e-04, tolerance: 1.118e-05\n",
      "  model = cd_fast.enet_coordinate_descent(\n",
      "/Users/markhendricks/Projects/drw-dataanalysis-2023/venv/lib/python3.9/site-packages/sklearn/linear_model/_coordinate_descent.py:631: ConvergenceWarning: Objective did not converge. You might want to increase the number of iterations, check the scale of the features or consider increasing regularisation. Duality gap: 4.651e-04, tolerance: 1.118e-05\n",
      "  model = cd_fast.enet_coordinate_descent(\n",
      "/Users/markhendricks/Projects/drw-dataanalysis-2023/venv/lib/python3.9/site-packages/sklearn/linear_model/_coordinate_descent.py:631: ConvergenceWarning: Objective did not converge. You might want to increase the number of iterations, check the scale of the features or consider increasing regularisation. Duality gap: 4.225e-04, tolerance: 1.118e-05\n",
      "  model = cd_fast.enet_coordinate_descent(\n",
      "/Users/markhendricks/Projects/drw-dataanalysis-2023/venv/lib/python3.9/site-packages/sklearn/linear_model/_coordinate_descent.py:631: ConvergenceWarning: Objective did not converge. You might want to increase the number of iterations, check the scale of the features or consider increasing regularisation. Duality gap: 3.869e-04, tolerance: 1.118e-05\n",
      "  model = cd_fast.enet_coordinate_descent(\n",
      "/Users/markhendricks/Projects/drw-dataanalysis-2023/venv/lib/python3.9/site-packages/sklearn/linear_model/_coordinate_descent.py:631: ConvergenceWarning: Objective did not converge. You might want to increase the number of iterations, check the scale of the features or consider increasing regularisation. Duality gap: 3.622e-04, tolerance: 1.118e-05\n",
      "  model = cd_fast.enet_coordinate_descent(\n"
     ]
    },
    {
     "name": "stderr",
     "output_type": "stream",
     "text": [
      "/Users/markhendricks/Projects/drw-dataanalysis-2023/venv/lib/python3.9/site-packages/sklearn/linear_model/_coordinate_descent.py:631: ConvergenceWarning: Objective did not converge. You might want to increase the number of iterations, check the scale of the features or consider increasing regularisation. Duality gap: 3.333e-04, tolerance: 1.118e-05\n",
      "  model = cd_fast.enet_coordinate_descent(\n",
      "/Users/markhendricks/Projects/drw-dataanalysis-2023/venv/lib/python3.9/site-packages/sklearn/linear_model/_coordinate_descent.py:631: ConvergenceWarning: Objective did not converge. You might want to increase the number of iterations, check the scale of the features or consider increasing regularisation. Duality gap: 3.027e-04, tolerance: 1.118e-05\n",
      "  model = cd_fast.enet_coordinate_descent(\n",
      "/Users/markhendricks/Projects/drw-dataanalysis-2023/venv/lib/python3.9/site-packages/sklearn/linear_model/_coordinate_descent.py:631: ConvergenceWarning: Objective did not converge. You might want to increase the number of iterations, check the scale of the features or consider increasing regularisation. Duality gap: 3.533e-04, tolerance: 1.118e-05\n",
      "  model = cd_fast.enet_coordinate_descent(\n",
      "/Users/markhendricks/Projects/drw-dataanalysis-2023/venv/lib/python3.9/site-packages/sklearn/linear_model/_coordinate_descent.py:631: ConvergenceWarning: Objective did not converge. You might want to increase the number of iterations, check the scale of the features or consider increasing regularisation. Duality gap: 3.896e-04, tolerance: 1.118e-05\n",
      "  model = cd_fast.enet_coordinate_descent(\n",
      "/Users/markhendricks/Projects/drw-dataanalysis-2023/venv/lib/python3.9/site-packages/sklearn/linear_model/_coordinate_descent.py:631: ConvergenceWarning: Objective did not converge. You might want to increase the number of iterations, check the scale of the features or consider increasing regularisation. Duality gap: 4.359e-04, tolerance: 1.118e-05\n",
      "  model = cd_fast.enet_coordinate_descent(\n",
      "/Users/markhendricks/Projects/drw-dataanalysis-2023/venv/lib/python3.9/site-packages/sklearn/linear_model/_coordinate_descent.py:631: ConvergenceWarning: Objective did not converge. You might want to increase the number of iterations, check the scale of the features or consider increasing regularisation. Duality gap: 5.021e-04, tolerance: 1.118e-05\n",
      "  model = cd_fast.enet_coordinate_descent(\n",
      "/Users/markhendricks/Projects/drw-dataanalysis-2023/venv/lib/python3.9/site-packages/sklearn/linear_model/_coordinate_descent.py:631: ConvergenceWarning: Objective did not converge. You might want to increase the number of iterations, check the scale of the features or consider increasing regularisation. Duality gap: 5.073e-04, tolerance: 1.118e-05\n",
      "  model = cd_fast.enet_coordinate_descent(\n",
      "/Users/markhendricks/Projects/drw-dataanalysis-2023/venv/lib/python3.9/site-packages/sklearn/linear_model/_coordinate_descent.py:631: ConvergenceWarning: Objective did not converge. You might want to increase the number of iterations, check the scale of the features or consider increasing regularisation. Duality gap: 4.595e-04, tolerance: 1.118e-05\n",
      "  model = cd_fast.enet_coordinate_descent(\n",
      "/Users/markhendricks/Projects/drw-dataanalysis-2023/venv/lib/python3.9/site-packages/sklearn/linear_model/_coordinate_descent.py:631: ConvergenceWarning: Objective did not converge. You might want to increase the number of iterations, check the scale of the features or consider increasing regularisation. Duality gap: 4.049e-04, tolerance: 1.118e-05\n",
      "  model = cd_fast.enet_coordinate_descent(\n",
      "/Users/markhendricks/Projects/drw-dataanalysis-2023/venv/lib/python3.9/site-packages/sklearn/linear_model/_coordinate_descent.py:631: ConvergenceWarning: Objective did not converge. You might want to increase the number of iterations, check the scale of the features or consider increasing regularisation. Duality gap: 2.219e-05, tolerance: 1.127e-05\n",
      "  model = cd_fast.enet_coordinate_descent(\n",
      "/Users/markhendricks/Projects/drw-dataanalysis-2023/venv/lib/python3.9/site-packages/sklearn/linear_model/_coordinate_descent.py:631: ConvergenceWarning: Objective did not converge. You might want to increase the number of iterations, check the scale of the features or consider increasing regularisation. Duality gap: 3.333e-05, tolerance: 1.127e-05\n",
      "  model = cd_fast.enet_coordinate_descent(\n",
      "/Users/markhendricks/Projects/drw-dataanalysis-2023/venv/lib/python3.9/site-packages/sklearn/linear_model/_coordinate_descent.py:631: ConvergenceWarning: Objective did not converge. You might want to increase the number of iterations, check the scale of the features or consider increasing regularisation. Duality gap: 4.358e-05, tolerance: 1.127e-05\n",
      "  model = cd_fast.enet_coordinate_descent(\n",
      "/Users/markhendricks/Projects/drw-dataanalysis-2023/venv/lib/python3.9/site-packages/sklearn/linear_model/_coordinate_descent.py:631: ConvergenceWarning: Objective did not converge. You might want to increase the number of iterations, check the scale of the features or consider increasing regularisation. Duality gap: 8.101e-05, tolerance: 1.127e-05\n",
      "  model = cd_fast.enet_coordinate_descent(\n",
      "/Users/markhendricks/Projects/drw-dataanalysis-2023/venv/lib/python3.9/site-packages/sklearn/linear_model/_coordinate_descent.py:631: ConvergenceWarning: Objective did not converge. You might want to increase the number of iterations, check the scale of the features or consider increasing regularisation. Duality gap: 1.102e-04, tolerance: 1.127e-05\n",
      "  model = cd_fast.enet_coordinate_descent(\n",
      "/Users/markhendricks/Projects/drw-dataanalysis-2023/venv/lib/python3.9/site-packages/sklearn/linear_model/_coordinate_descent.py:631: ConvergenceWarning: Objective did not converge. You might want to increase the number of iterations, check the scale of the features or consider increasing regularisation. Duality gap: 1.292e-04, tolerance: 1.127e-05\n",
      "  model = cd_fast.enet_coordinate_descent(\n",
      "/Users/markhendricks/Projects/drw-dataanalysis-2023/venv/lib/python3.9/site-packages/sklearn/linear_model/_coordinate_descent.py:631: ConvergenceWarning: Objective did not converge. You might want to increase the number of iterations, check the scale of the features or consider increasing regularisation. Duality gap: 1.216e-04, tolerance: 1.127e-05\n",
      "  model = cd_fast.enet_coordinate_descent(\n",
      "/Users/markhendricks/Projects/drw-dataanalysis-2023/venv/lib/python3.9/site-packages/sklearn/linear_model/_coordinate_descent.py:631: ConvergenceWarning: Objective did not converge. You might want to increase the number of iterations, check the scale of the features or consider increasing regularisation. Duality gap: 1.134e-04, tolerance: 1.127e-05\n",
      "  model = cd_fast.enet_coordinate_descent(\n",
      "/Users/markhendricks/Projects/drw-dataanalysis-2023/venv/lib/python3.9/site-packages/sklearn/linear_model/_coordinate_descent.py:631: ConvergenceWarning: Objective did not converge. You might want to increase the number of iterations, check the scale of the features or consider increasing regularisation. Duality gap: 8.718e-05, tolerance: 1.127e-05\n",
      "  model = cd_fast.enet_coordinate_descent(\n",
      "/Users/markhendricks/Projects/drw-dataanalysis-2023/venv/lib/python3.9/site-packages/sklearn/linear_model/_coordinate_descent.py:631: ConvergenceWarning: Objective did not converge. You might want to increase the number of iterations, check the scale of the features or consider increasing regularisation. Duality gap: 6.004e-05, tolerance: 1.127e-05\n",
      "  model = cd_fast.enet_coordinate_descent(\n",
      "/Users/markhendricks/Projects/drw-dataanalysis-2023/venv/lib/python3.9/site-packages/sklearn/linear_model/_coordinate_descent.py:631: ConvergenceWarning: Objective did not converge. You might want to increase the number of iterations, check the scale of the features or consider increasing regularisation. Duality gap: 4.876e-05, tolerance: 1.127e-05\n",
      "  model = cd_fast.enet_coordinate_descent(\n",
      "/Users/markhendricks/Projects/drw-dataanalysis-2023/venv/lib/python3.9/site-packages/sklearn/linear_model/_coordinate_descent.py:631: ConvergenceWarning: Objective did not converge. You might want to increase the number of iterations, check the scale of the features or consider increasing regularisation. Duality gap: 7.755e-05, tolerance: 1.127e-05\n",
      "  model = cd_fast.enet_coordinate_descent(\n",
      "/Users/markhendricks/Projects/drw-dataanalysis-2023/venv/lib/python3.9/site-packages/sklearn/linear_model/_coordinate_descent.py:631: ConvergenceWarning: Objective did not converge. You might want to increase the number of iterations, check the scale of the features or consider increasing regularisation. Duality gap: 5.244e-05, tolerance: 1.127e-05\n",
      "  model = cd_fast.enet_coordinate_descent(\n",
      "/Users/markhendricks/Projects/drw-dataanalysis-2023/venv/lib/python3.9/site-packages/sklearn/linear_model/_coordinate_descent.py:631: ConvergenceWarning: Objective did not converge. You might want to increase the number of iterations, check the scale of the features or consider increasing regularisation. Duality gap: 4.960e-05, tolerance: 1.127e-05\n",
      "  model = cd_fast.enet_coordinate_descent(\n",
      "/Users/markhendricks/Projects/drw-dataanalysis-2023/venv/lib/python3.9/site-packages/sklearn/linear_model/_coordinate_descent.py:631: ConvergenceWarning: Objective did not converge. You might want to increase the number of iterations, check the scale of the features or consider increasing regularisation. Duality gap: 5.957e-05, tolerance: 1.127e-05\n",
      "  model = cd_fast.enet_coordinate_descent(\n",
      "/Users/markhendricks/Projects/drw-dataanalysis-2023/venv/lib/python3.9/site-packages/sklearn/linear_model/_coordinate_descent.py:631: ConvergenceWarning: Objective did not converge. You might want to increase the number of iterations, check the scale of the features or consider increasing regularisation. Duality gap: 9.756e-05, tolerance: 1.127e-05\n",
      "  model = cd_fast.enet_coordinate_descent(\n",
      "/Users/markhendricks/Projects/drw-dataanalysis-2023/venv/lib/python3.9/site-packages/sklearn/linear_model/_coordinate_descent.py:631: ConvergenceWarning: Objective did not converge. You might want to increase the number of iterations, check the scale of the features or consider increasing regularisation. Duality gap: 1.599e-04, tolerance: 1.127e-05\n",
      "  model = cd_fast.enet_coordinate_descent(\n",
      "/Users/markhendricks/Projects/drw-dataanalysis-2023/venv/lib/python3.9/site-packages/sklearn/linear_model/_coordinate_descent.py:631: ConvergenceWarning: Objective did not converge. You might want to increase the number of iterations, check the scale of the features or consider increasing regularisation. Duality gap: 9.368e-05, tolerance: 1.127e-05\n",
      "  model = cd_fast.enet_coordinate_descent(\n",
      "/Users/markhendricks/Projects/drw-dataanalysis-2023/venv/lib/python3.9/site-packages/sklearn/linear_model/_coordinate_descent.py:631: ConvergenceWarning: Objective did not converge. You might want to increase the number of iterations, check the scale of the features or consider increasing regularisation. Duality gap: 1.262e-04, tolerance: 1.127e-05\n",
      "  model = cd_fast.enet_coordinate_descent(\n",
      "/Users/markhendricks/Projects/drw-dataanalysis-2023/venv/lib/python3.9/site-packages/sklearn/linear_model/_coordinate_descent.py:631: ConvergenceWarning: Objective did not converge. You might want to increase the number of iterations, check the scale of the features or consider increasing regularisation. Duality gap: 2.248e-04, tolerance: 1.127e-05\n",
      "  model = cd_fast.enet_coordinate_descent(\n",
      "/Users/markhendricks/Projects/drw-dataanalysis-2023/venv/lib/python3.9/site-packages/sklearn/linear_model/_coordinate_descent.py:631: ConvergenceWarning: Objective did not converge. You might want to increase the number of iterations, check the scale of the features or consider increasing regularisation. Duality gap: 1.877e-04, tolerance: 1.127e-05\n",
      "  model = cd_fast.enet_coordinate_descent(\n",
      "/Users/markhendricks/Projects/drw-dataanalysis-2023/venv/lib/python3.9/site-packages/sklearn/linear_model/_coordinate_descent.py:631: ConvergenceWarning: Objective did not converge. You might want to increase the number of iterations, check the scale of the features or consider increasing regularisation. Duality gap: 1.124e-04, tolerance: 1.127e-05\n",
      "  model = cd_fast.enet_coordinate_descent(\n",
      "/Users/markhendricks/Projects/drw-dataanalysis-2023/venv/lib/python3.9/site-packages/sklearn/linear_model/_coordinate_descent.py:631: ConvergenceWarning: Objective did not converge. You might want to increase the number of iterations, check the scale of the features or consider increasing regularisation. Duality gap: 1.960e-04, tolerance: 1.127e-05\n",
      "  model = cd_fast.enet_coordinate_descent(\n",
      "/Users/markhendricks/Projects/drw-dataanalysis-2023/venv/lib/python3.9/site-packages/sklearn/linear_model/_coordinate_descent.py:631: ConvergenceWarning: Objective did not converge. You might want to increase the number of iterations, check the scale of the features or consider increasing regularisation. Duality gap: 1.902e-04, tolerance: 1.127e-05\n",
      "  model = cd_fast.enet_coordinate_descent(\n",
      "/Users/markhendricks/Projects/drw-dataanalysis-2023/venv/lib/python3.9/site-packages/sklearn/linear_model/_coordinate_descent.py:631: ConvergenceWarning: Objective did not converge. You might want to increase the number of iterations, check the scale of the features or consider increasing regularisation. Duality gap: 2.011e-04, tolerance: 1.127e-05\n",
      "  model = cd_fast.enet_coordinate_descent(\n",
      "/Users/markhendricks/Projects/drw-dataanalysis-2023/venv/lib/python3.9/site-packages/sklearn/linear_model/_coordinate_descent.py:631: ConvergenceWarning: Objective did not converge. You might want to increase the number of iterations, check the scale of the features or consider increasing regularisation. Duality gap: 1.431e-04, tolerance: 1.127e-05\n",
      "  model = cd_fast.enet_coordinate_descent(\n",
      "/Users/markhendricks/Projects/drw-dataanalysis-2023/venv/lib/python3.9/site-packages/sklearn/linear_model/_coordinate_descent.py:631: ConvergenceWarning: Objective did not converge. You might want to increase the number of iterations, check the scale of the features or consider increasing regularisation. Duality gap: 1.942e-04, tolerance: 1.127e-05\n",
      "  model = cd_fast.enet_coordinate_descent(\n",
      "/Users/markhendricks/Projects/drw-dataanalysis-2023/venv/lib/python3.9/site-packages/sklearn/linear_model/_coordinate_descent.py:631: ConvergenceWarning: Objective did not converge. You might want to increase the number of iterations, check the scale of the features or consider increasing regularisation. Duality gap: 2.076e-04, tolerance: 1.127e-05\n",
      "  model = cd_fast.enet_coordinate_descent(\n"
     ]
    },
    {
     "name": "stderr",
     "output_type": "stream",
     "text": [
      "/Users/markhendricks/Projects/drw-dataanalysis-2023/venv/lib/python3.9/site-packages/sklearn/linear_model/_coordinate_descent.py:631: ConvergenceWarning: Objective did not converge. You might want to increase the number of iterations, check the scale of the features or consider increasing regularisation. Duality gap: 2.756e-04, tolerance: 1.127e-05\n",
      "  model = cd_fast.enet_coordinate_descent(\n",
      "/Users/markhendricks/Projects/drw-dataanalysis-2023/venv/lib/python3.9/site-packages/sklearn/linear_model/_coordinate_descent.py:631: ConvergenceWarning: Objective did not converge. You might want to increase the number of iterations, check the scale of the features or consider increasing regularisation. Duality gap: 3.354e-04, tolerance: 1.127e-05\n",
      "  model = cd_fast.enet_coordinate_descent(\n",
      "/Users/markhendricks/Projects/drw-dataanalysis-2023/venv/lib/python3.9/site-packages/sklearn/linear_model/_coordinate_descent.py:631: ConvergenceWarning: Objective did not converge. You might want to increase the number of iterations, check the scale of the features or consider increasing regularisation. Duality gap: 3.954e-04, tolerance: 1.127e-05\n",
      "  model = cd_fast.enet_coordinate_descent(\n",
      "/Users/markhendricks/Projects/drw-dataanalysis-2023/venv/lib/python3.9/site-packages/sklearn/linear_model/_coordinate_descent.py:631: ConvergenceWarning: Objective did not converge. You might want to increase the number of iterations, check the scale of the features or consider increasing regularisation. Duality gap: 4.948e-04, tolerance: 1.127e-05\n",
      "  model = cd_fast.enet_coordinate_descent(\n",
      "/Users/markhendricks/Projects/drw-dataanalysis-2023/venv/lib/python3.9/site-packages/sklearn/linear_model/_coordinate_descent.py:631: ConvergenceWarning: Objective did not converge. You might want to increase the number of iterations, check the scale of the features or consider increasing regularisation. Duality gap: 5.056e-04, tolerance: 1.127e-05\n",
      "  model = cd_fast.enet_coordinate_descent(\n",
      "/Users/markhendricks/Projects/drw-dataanalysis-2023/venv/lib/python3.9/site-packages/sklearn/linear_model/_coordinate_descent.py:631: ConvergenceWarning: Objective did not converge. You might want to increase the number of iterations, check the scale of the features or consider increasing regularisation. Duality gap: 5.175e-04, tolerance: 1.127e-05\n",
      "  model = cd_fast.enet_coordinate_descent(\n",
      "/Users/markhendricks/Projects/drw-dataanalysis-2023/venv/lib/python3.9/site-packages/sklearn/linear_model/_coordinate_descent.py:631: ConvergenceWarning: Objective did not converge. You might want to increase the number of iterations, check the scale of the features or consider increasing regularisation. Duality gap: 5.430e-04, tolerance: 1.127e-05\n",
      "  model = cd_fast.enet_coordinate_descent(\n",
      "/Users/markhendricks/Projects/drw-dataanalysis-2023/venv/lib/python3.9/site-packages/sklearn/linear_model/_coordinate_descent.py:631: ConvergenceWarning: Objective did not converge. You might want to increase the number of iterations, check the scale of the features or consider increasing regularisation. Duality gap: 6.885e-04, tolerance: 1.127e-05\n",
      "  model = cd_fast.enet_coordinate_descent(\n",
      "/Users/markhendricks/Projects/drw-dataanalysis-2023/venv/lib/python3.9/site-packages/sklearn/linear_model/_coordinate_descent.py:631: ConvergenceWarning: Objective did not converge. You might want to increase the number of iterations, check the scale of the features or consider increasing regularisation. Duality gap: 6.395e-04, tolerance: 1.127e-05\n",
      "  model = cd_fast.enet_coordinate_descent(\n",
      "/Users/markhendricks/Projects/drw-dataanalysis-2023/venv/lib/python3.9/site-packages/sklearn/linear_model/_coordinate_descent.py:631: ConvergenceWarning: Objective did not converge. You might want to increase the number of iterations, check the scale of the features or consider increasing regularisation. Duality gap: 6.631e-04, tolerance: 1.127e-05\n",
      "  model = cd_fast.enet_coordinate_descent(\n",
      "/Users/markhendricks/Projects/drw-dataanalysis-2023/venv/lib/python3.9/site-packages/sklearn/linear_model/_coordinate_descent.py:631: ConvergenceWarning: Objective did not converge. You might want to increase the number of iterations, check the scale of the features or consider increasing regularisation. Duality gap: 6.831e-04, tolerance: 1.127e-05\n",
      "  model = cd_fast.enet_coordinate_descent(\n",
      "/Users/markhendricks/Projects/drw-dataanalysis-2023/venv/lib/python3.9/site-packages/sklearn/linear_model/_coordinate_descent.py:631: ConvergenceWarning: Objective did not converge. You might want to increase the number of iterations, check the scale of the features or consider increasing regularisation. Duality gap: 6.546e-04, tolerance: 1.127e-05\n",
      "  model = cd_fast.enet_coordinate_descent(\n",
      "/Users/markhendricks/Projects/drw-dataanalysis-2023/venv/lib/python3.9/site-packages/sklearn/linear_model/_coordinate_descent.py:631: ConvergenceWarning: Objective did not converge. You might want to increase the number of iterations, check the scale of the features or consider increasing regularisation. Duality gap: 6.553e-04, tolerance: 1.127e-05\n",
      "  model = cd_fast.enet_coordinate_descent(\n",
      "/Users/markhendricks/Projects/drw-dataanalysis-2023/venv/lib/python3.9/site-packages/sklearn/linear_model/_coordinate_descent.py:631: ConvergenceWarning: Objective did not converge. You might want to increase the number of iterations, check the scale of the features or consider increasing regularisation. Duality gap: 6.208e-04, tolerance: 1.127e-05\n",
      "  model = cd_fast.enet_coordinate_descent(\n",
      "/Users/markhendricks/Projects/drw-dataanalysis-2023/venv/lib/python3.9/site-packages/sklearn/linear_model/_coordinate_descent.py:631: ConvergenceWarning: Objective did not converge. You might want to increase the number of iterations, check the scale of the features or consider increasing regularisation. Duality gap: 5.769e-04, tolerance: 1.127e-05\n",
      "  model = cd_fast.enet_coordinate_descent(\n",
      "/Users/markhendricks/Projects/drw-dataanalysis-2023/venv/lib/python3.9/site-packages/sklearn/linear_model/_coordinate_descent.py:631: ConvergenceWarning: Objective did not converge. You might want to increase the number of iterations, check the scale of the features or consider increasing regularisation. Duality gap: 6.205e-04, tolerance: 1.127e-05\n",
      "  model = cd_fast.enet_coordinate_descent(\n",
      "/Users/markhendricks/Projects/drw-dataanalysis-2023/venv/lib/python3.9/site-packages/sklearn/linear_model/_coordinate_descent.py:631: ConvergenceWarning: Objective did not converge. You might want to increase the number of iterations, check the scale of the features or consider increasing regularisation. Duality gap: 6.541e-04, tolerance: 1.127e-05\n",
      "  model = cd_fast.enet_coordinate_descent(\n",
      "/Users/markhendricks/Projects/drw-dataanalysis-2023/venv/lib/python3.9/site-packages/sklearn/linear_model/_coordinate_descent.py:631: ConvergenceWarning: Objective did not converge. You might want to increase the number of iterations, check the scale of the features or consider increasing regularisation. Duality gap: 5.328e-04, tolerance: 1.127e-05\n",
      "  model = cd_fast.enet_coordinate_descent(\n",
      "/Users/markhendricks/Projects/drw-dataanalysis-2023/venv/lib/python3.9/site-packages/sklearn/linear_model/_coordinate_descent.py:631: ConvergenceWarning: Objective did not converge. You might want to increase the number of iterations, check the scale of the features or consider increasing regularisation. Duality gap: 4.214e-04, tolerance: 1.127e-05\n",
      "  model = cd_fast.enet_coordinate_descent(\n",
      "/Users/markhendricks/Projects/drw-dataanalysis-2023/venv/lib/python3.9/site-packages/sklearn/linear_model/_coordinate_descent.py:631: ConvergenceWarning: Objective did not converge. You might want to increase the number of iterations, check the scale of the features or consider increasing regularisation. Duality gap: 3.391e-04, tolerance: 1.127e-05\n",
      "  model = cd_fast.enet_coordinate_descent(\n",
      "/Users/markhendricks/Projects/drw-dataanalysis-2023/venv/lib/python3.9/site-packages/sklearn/linear_model/_coordinate_descent.py:631: ConvergenceWarning: Objective did not converge. You might want to increase the number of iterations, check the scale of the features or consider increasing regularisation. Duality gap: 3.224e-04, tolerance: 1.127e-05\n",
      "  model = cd_fast.enet_coordinate_descent(\n",
      "/Users/markhendricks/Projects/drw-dataanalysis-2023/venv/lib/python3.9/site-packages/sklearn/linear_model/_coordinate_descent.py:631: ConvergenceWarning: Objective did not converge. You might want to increase the number of iterations, check the scale of the features or consider increasing regularisation. Duality gap: 3.100e-04, tolerance: 1.127e-05\n",
      "  model = cd_fast.enet_coordinate_descent(\n",
      "/Users/markhendricks/Projects/drw-dataanalysis-2023/venv/lib/python3.9/site-packages/sklearn/linear_model/_coordinate_descent.py:631: ConvergenceWarning: Objective did not converge. You might want to increase the number of iterations, check the scale of the features or consider increasing regularisation. Duality gap: 2.860e-04, tolerance: 1.127e-05\n",
      "  model = cd_fast.enet_coordinate_descent(\n",
      "/Users/markhendricks/Projects/drw-dataanalysis-2023/venv/lib/python3.9/site-packages/sklearn/linear_model/_coordinate_descent.py:631: ConvergenceWarning: Objective did not converge. You might want to increase the number of iterations, check the scale of the features or consider increasing regularisation. Duality gap: 2.979e-04, tolerance: 1.127e-05\n",
      "  model = cd_fast.enet_coordinate_descent(\n",
      "/Users/markhendricks/Projects/drw-dataanalysis-2023/venv/lib/python3.9/site-packages/sklearn/linear_model/_coordinate_descent.py:631: ConvergenceWarning: Objective did not converge. You might want to increase the number of iterations, check the scale of the features or consider increasing regularisation. Duality gap: 2.887e-04, tolerance: 1.127e-05\n",
      "  model = cd_fast.enet_coordinate_descent(\n",
      "/Users/markhendricks/Projects/drw-dataanalysis-2023/venv/lib/python3.9/site-packages/sklearn/linear_model/_coordinate_descent.py:631: ConvergenceWarning: Objective did not converge. You might want to increase the number of iterations, check the scale of the features or consider increasing regularisation. Duality gap: 2.572e-04, tolerance: 1.127e-05\n",
      "  model = cd_fast.enet_coordinate_descent(\n",
      "/Users/markhendricks/Projects/drw-dataanalysis-2023/venv/lib/python3.9/site-packages/sklearn/linear_model/_coordinate_descent.py:631: ConvergenceWarning: Objective did not converge. You might want to increase the number of iterations, check the scale of the features or consider increasing regularisation. Duality gap: 2.673e-04, tolerance: 1.127e-05\n",
      "  model = cd_fast.enet_coordinate_descent(\n",
      "/Users/markhendricks/Projects/drw-dataanalysis-2023/venv/lib/python3.9/site-packages/sklearn/linear_model/_coordinate_descent.py:631: ConvergenceWarning: Objective did not converge. You might want to increase the number of iterations, check the scale of the features or consider increasing regularisation. Duality gap: 2.723e-04, tolerance: 1.127e-05\n",
      "  model = cd_fast.enet_coordinate_descent(\n",
      "/Users/markhendricks/Projects/drw-dataanalysis-2023/venv/lib/python3.9/site-packages/sklearn/linear_model/_coordinate_descent.py:631: ConvergenceWarning: Objective did not converge. You might want to increase the number of iterations, check the scale of the features or consider increasing regularisation. Duality gap: 1.256e-05, tolerance: 7.604e-06\n",
      "  model = cd_fast.enet_coordinate_descent(\n",
      "/Users/markhendricks/Projects/drw-dataanalysis-2023/venv/lib/python3.9/site-packages/sklearn/linear_model/_coordinate_descent.py:631: ConvergenceWarning: Objective did not converge. You might want to increase the number of iterations, check the scale of the features or consider increasing regularisation. Duality gap: 1.391e-05, tolerance: 7.604e-06\n",
      "  model = cd_fast.enet_coordinate_descent(\n"
     ]
    },
    {
     "name": "stderr",
     "output_type": "stream",
     "text": [
      "/Users/markhendricks/Projects/drw-dataanalysis-2023/venv/lib/python3.9/site-packages/sklearn/linear_model/_coordinate_descent.py:631: ConvergenceWarning: Objective did not converge. You might want to increase the number of iterations, check the scale of the features or consider increasing regularisation. Duality gap: 1.501e-05, tolerance: 7.604e-06\n",
      "  model = cd_fast.enet_coordinate_descent(\n",
      "/Users/markhendricks/Projects/drw-dataanalysis-2023/venv/lib/python3.9/site-packages/sklearn/linear_model/_coordinate_descent.py:631: ConvergenceWarning: Objective did not converge. You might want to increase the number of iterations, check the scale of the features or consider increasing regularisation. Duality gap: 2.090e-05, tolerance: 7.604e-06\n",
      "  model = cd_fast.enet_coordinate_descent(\n",
      "/Users/markhendricks/Projects/drw-dataanalysis-2023/venv/lib/python3.9/site-packages/sklearn/linear_model/_coordinate_descent.py:631: ConvergenceWarning: Objective did not converge. You might want to increase the number of iterations, check the scale of the features or consider increasing regularisation. Duality gap: 2.615e-05, tolerance: 7.604e-06\n",
      "  model = cd_fast.enet_coordinate_descent(\n",
      "/Users/markhendricks/Projects/drw-dataanalysis-2023/venv/lib/python3.9/site-packages/sklearn/linear_model/_coordinate_descent.py:631: ConvergenceWarning: Objective did not converge. You might want to increase the number of iterations, check the scale of the features or consider increasing regularisation. Duality gap: 2.315e-05, tolerance: 7.604e-06\n",
      "  model = cd_fast.enet_coordinate_descent(\n",
      "/Users/markhendricks/Projects/drw-dataanalysis-2023/venv/lib/python3.9/site-packages/sklearn/linear_model/_coordinate_descent.py:631: ConvergenceWarning: Objective did not converge. You might want to increase the number of iterations, check the scale of the features or consider increasing regularisation. Duality gap: 4.651e-05, tolerance: 7.604e-06\n",
      "  model = cd_fast.enet_coordinate_descent(\n",
      "/Users/markhendricks/Projects/drw-dataanalysis-2023/venv/lib/python3.9/site-packages/sklearn/linear_model/_coordinate_descent.py:631: ConvergenceWarning: Objective did not converge. You might want to increase the number of iterations, check the scale of the features or consider increasing regularisation. Duality gap: 7.265e-05, tolerance: 7.604e-06\n",
      "  model = cd_fast.enet_coordinate_descent(\n",
      "/Users/markhendricks/Projects/drw-dataanalysis-2023/venv/lib/python3.9/site-packages/sklearn/linear_model/_coordinate_descent.py:631: ConvergenceWarning: Objective did not converge. You might want to increase the number of iterations, check the scale of the features or consider increasing regularisation. Duality gap: 4.797e-05, tolerance: 7.604e-06\n",
      "  model = cd_fast.enet_coordinate_descent(\n",
      "/Users/markhendricks/Projects/drw-dataanalysis-2023/venv/lib/python3.9/site-packages/sklearn/linear_model/_coordinate_descent.py:631: ConvergenceWarning: Objective did not converge. You might want to increase the number of iterations, check the scale of the features or consider increasing regularisation. Duality gap: 5.281e-05, tolerance: 7.604e-06\n",
      "  model = cd_fast.enet_coordinate_descent(\n",
      "/Users/markhendricks/Projects/drw-dataanalysis-2023/venv/lib/python3.9/site-packages/sklearn/linear_model/_coordinate_descent.py:631: ConvergenceWarning: Objective did not converge. You might want to increase the number of iterations, check the scale of the features or consider increasing regularisation. Duality gap: 5.653e-05, tolerance: 7.604e-06\n",
      "  model = cd_fast.enet_coordinate_descent(\n",
      "/Users/markhendricks/Projects/drw-dataanalysis-2023/venv/lib/python3.9/site-packages/sklearn/linear_model/_coordinate_descent.py:631: ConvergenceWarning: Objective did not converge. You might want to increase the number of iterations, check the scale of the features or consider increasing regularisation. Duality gap: 2.742e-05, tolerance: 7.604e-06\n",
      "  model = cd_fast.enet_coordinate_descent(\n",
      "/Users/markhendricks/Projects/drw-dataanalysis-2023/venv/lib/python3.9/site-packages/sklearn/linear_model/_coordinate_descent.py:631: ConvergenceWarning: Objective did not converge. You might want to increase the number of iterations, check the scale of the features or consider increasing regularisation. Duality gap: 5.287e-05, tolerance: 7.604e-06\n",
      "  model = cd_fast.enet_coordinate_descent(\n",
      "/Users/markhendricks/Projects/drw-dataanalysis-2023/venv/lib/python3.9/site-packages/sklearn/linear_model/_coordinate_descent.py:631: ConvergenceWarning: Objective did not converge. You might want to increase the number of iterations, check the scale of the features or consider increasing regularisation. Duality gap: 5.447e-05, tolerance: 7.604e-06\n",
      "  model = cd_fast.enet_coordinate_descent(\n",
      "/Users/markhendricks/Projects/drw-dataanalysis-2023/venv/lib/python3.9/site-packages/sklearn/linear_model/_coordinate_descent.py:631: ConvergenceWarning: Objective did not converge. You might want to increase the number of iterations, check the scale of the features or consider increasing regularisation. Duality gap: 5.514e-05, tolerance: 7.604e-06\n",
      "  model = cd_fast.enet_coordinate_descent(\n",
      "/Users/markhendricks/Projects/drw-dataanalysis-2023/venv/lib/python3.9/site-packages/sklearn/linear_model/_coordinate_descent.py:631: ConvergenceWarning: Objective did not converge. You might want to increase the number of iterations, check the scale of the features or consider increasing regularisation. Duality gap: 4.900e-05, tolerance: 7.604e-06\n",
      "  model = cd_fast.enet_coordinate_descent(\n",
      "/Users/markhendricks/Projects/drw-dataanalysis-2023/venv/lib/python3.9/site-packages/sklearn/linear_model/_coordinate_descent.py:631: ConvergenceWarning: Objective did not converge. You might want to increase the number of iterations, check the scale of the features or consider increasing regularisation. Duality gap: 8.291e-05, tolerance: 7.604e-06\n",
      "  model = cd_fast.enet_coordinate_descent(\n",
      "/Users/markhendricks/Projects/drw-dataanalysis-2023/venv/lib/python3.9/site-packages/sklearn/linear_model/_coordinate_descent.py:631: ConvergenceWarning: Objective did not converge. You might want to increase the number of iterations, check the scale of the features or consider increasing regularisation. Duality gap: 1.041e-04, tolerance: 7.604e-06\n",
      "  model = cd_fast.enet_coordinate_descent(\n",
      "/Users/markhendricks/Projects/drw-dataanalysis-2023/venv/lib/python3.9/site-packages/sklearn/linear_model/_coordinate_descent.py:631: ConvergenceWarning: Objective did not converge. You might want to increase the number of iterations, check the scale of the features or consider increasing regularisation. Duality gap: 9.248e-05, tolerance: 7.604e-06\n",
      "  model = cd_fast.enet_coordinate_descent(\n",
      "/Users/markhendricks/Projects/drw-dataanalysis-2023/venv/lib/python3.9/site-packages/sklearn/linear_model/_coordinate_descent.py:631: ConvergenceWarning: Objective did not converge. You might want to increase the number of iterations, check the scale of the features or consider increasing regularisation. Duality gap: 6.099e-05, tolerance: 7.604e-06\n",
      "  model = cd_fast.enet_coordinate_descent(\n",
      "/Users/markhendricks/Projects/drw-dataanalysis-2023/venv/lib/python3.9/site-packages/sklearn/linear_model/_coordinate_descent.py:631: ConvergenceWarning: Objective did not converge. You might want to increase the number of iterations, check the scale of the features or consider increasing regularisation. Duality gap: 4.957e-05, tolerance: 7.604e-06\n",
      "  model = cd_fast.enet_coordinate_descent(\n",
      "/Users/markhendricks/Projects/drw-dataanalysis-2023/venv/lib/python3.9/site-packages/sklearn/linear_model/_coordinate_descent.py:631: ConvergenceWarning: Objective did not converge. You might want to increase the number of iterations, check the scale of the features or consider increasing regularisation. Duality gap: 5.746e-05, tolerance: 7.604e-06\n",
      "  model = cd_fast.enet_coordinate_descent(\n",
      "/Users/markhendricks/Projects/drw-dataanalysis-2023/venv/lib/python3.9/site-packages/sklearn/linear_model/_coordinate_descent.py:631: ConvergenceWarning: Objective did not converge. You might want to increase the number of iterations, check the scale of the features or consider increasing regularisation. Duality gap: 7.339e-05, tolerance: 7.604e-06\n",
      "  model = cd_fast.enet_coordinate_descent(\n",
      "/Users/markhendricks/Projects/drw-dataanalysis-2023/venv/lib/python3.9/site-packages/sklearn/linear_model/_coordinate_descent.py:631: ConvergenceWarning: Objective did not converge. You might want to increase the number of iterations, check the scale of the features or consider increasing regularisation. Duality gap: 4.252e-05, tolerance: 7.604e-06\n",
      "  model = cd_fast.enet_coordinate_descent(\n",
      "/Users/markhendricks/Projects/drw-dataanalysis-2023/venv/lib/python3.9/site-packages/sklearn/linear_model/_coordinate_descent.py:631: ConvergenceWarning: Objective did not converge. You might want to increase the number of iterations, check the scale of the features or consider increasing regularisation. Duality gap: 9.807e-05, tolerance: 7.604e-06\n",
      "  model = cd_fast.enet_coordinate_descent(\n",
      "/Users/markhendricks/Projects/drw-dataanalysis-2023/venv/lib/python3.9/site-packages/sklearn/linear_model/_coordinate_descent.py:631: ConvergenceWarning: Objective did not converge. You might want to increase the number of iterations, check the scale of the features or consider increasing regularisation. Duality gap: 1.424e-04, tolerance: 7.604e-06\n",
      "  model = cd_fast.enet_coordinate_descent(\n",
      "/Users/markhendricks/Projects/drw-dataanalysis-2023/venv/lib/python3.9/site-packages/sklearn/linear_model/_coordinate_descent.py:631: ConvergenceWarning: Objective did not converge. You might want to increase the number of iterations, check the scale of the features or consider increasing regularisation. Duality gap: 1.155e-04, tolerance: 7.604e-06\n",
      "  model = cd_fast.enet_coordinate_descent(\n",
      "/Users/markhendricks/Projects/drw-dataanalysis-2023/venv/lib/python3.9/site-packages/sklearn/linear_model/_coordinate_descent.py:631: ConvergenceWarning: Objective did not converge. You might want to increase the number of iterations, check the scale of the features or consider increasing regularisation. Duality gap: 6.745e-05, tolerance: 7.604e-06\n",
      "  model = cd_fast.enet_coordinate_descent(\n",
      "/Users/markhendricks/Projects/drw-dataanalysis-2023/venv/lib/python3.9/site-packages/sklearn/linear_model/_coordinate_descent.py:631: ConvergenceWarning: Objective did not converge. You might want to increase the number of iterations, check the scale of the features or consider increasing regularisation. Duality gap: 1.698e-04, tolerance: 7.604e-06\n",
      "  model = cd_fast.enet_coordinate_descent(\n",
      "/Users/markhendricks/Projects/drw-dataanalysis-2023/venv/lib/python3.9/site-packages/sklearn/linear_model/_coordinate_descent.py:631: ConvergenceWarning: Objective did not converge. You might want to increase the number of iterations, check the scale of the features or consider increasing regularisation. Duality gap: 1.433e-04, tolerance: 7.604e-06\n",
      "  model = cd_fast.enet_coordinate_descent(\n",
      "/Users/markhendricks/Projects/drw-dataanalysis-2023/venv/lib/python3.9/site-packages/sklearn/linear_model/_coordinate_descent.py:631: ConvergenceWarning: Objective did not converge. You might want to increase the number of iterations, check the scale of the features or consider increasing regularisation. Duality gap: 1.086e-04, tolerance: 7.604e-06\n",
      "  model = cd_fast.enet_coordinate_descent(\n",
      "/Users/markhendricks/Projects/drw-dataanalysis-2023/venv/lib/python3.9/site-packages/sklearn/linear_model/_coordinate_descent.py:631: ConvergenceWarning: Objective did not converge. You might want to increase the number of iterations, check the scale of the features or consider increasing regularisation. Duality gap: 1.237e-04, tolerance: 7.604e-06\n",
      "  model = cd_fast.enet_coordinate_descent(\n",
      "/Users/markhendricks/Projects/drw-dataanalysis-2023/venv/lib/python3.9/site-packages/sklearn/linear_model/_coordinate_descent.py:631: ConvergenceWarning: Objective did not converge. You might want to increase the number of iterations, check the scale of the features or consider increasing regularisation. Duality gap: 1.234e-04, tolerance: 7.604e-06\n",
      "  model = cd_fast.enet_coordinate_descent(\n",
      "/Users/markhendricks/Projects/drw-dataanalysis-2023/venv/lib/python3.9/site-packages/sklearn/linear_model/_coordinate_descent.py:631: ConvergenceWarning: Objective did not converge. You might want to increase the number of iterations, check the scale of the features or consider increasing regularisation. Duality gap: 1.215e-04, tolerance: 7.604e-06\n",
      "  model = cd_fast.enet_coordinate_descent(\n",
      "/Users/markhendricks/Projects/drw-dataanalysis-2023/venv/lib/python3.9/site-packages/sklearn/linear_model/_coordinate_descent.py:631: ConvergenceWarning: Objective did not converge. You might want to increase the number of iterations, check the scale of the features or consider increasing regularisation. Duality gap: 1.311e-04, tolerance: 7.604e-06\n",
      "  model = cd_fast.enet_coordinate_descent(\n",
      "/Users/markhendricks/Projects/drw-dataanalysis-2023/venv/lib/python3.9/site-packages/sklearn/linear_model/_coordinate_descent.py:631: ConvergenceWarning: Objective did not converge. You might want to increase the number of iterations, check the scale of the features or consider increasing regularisation. Duality gap: 1.193e-04, tolerance: 7.604e-06\n",
      "  model = cd_fast.enet_coordinate_descent(\n",
      "/Users/markhendricks/Projects/drw-dataanalysis-2023/venv/lib/python3.9/site-packages/sklearn/linear_model/_coordinate_descent.py:631: ConvergenceWarning: Objective did not converge. You might want to increase the number of iterations, check the scale of the features or consider increasing regularisation. Duality gap: 1.044e-04, tolerance: 7.604e-06\n",
      "  model = cd_fast.enet_coordinate_descent(\n",
      "/Users/markhendricks/Projects/drw-dataanalysis-2023/venv/lib/python3.9/site-packages/sklearn/linear_model/_coordinate_descent.py:631: ConvergenceWarning: Objective did not converge. You might want to increase the number of iterations, check the scale of the features or consider increasing regularisation. Duality gap: 1.100e-04, tolerance: 7.604e-06\n",
      "  model = cd_fast.enet_coordinate_descent(\n",
      "/Users/markhendricks/Projects/drw-dataanalysis-2023/venv/lib/python3.9/site-packages/sklearn/linear_model/_coordinate_descent.py:631: ConvergenceWarning: Objective did not converge. You might want to increase the number of iterations, check the scale of the features or consider increasing regularisation. Duality gap: 1.161e-04, tolerance: 7.604e-06\n",
      "  model = cd_fast.enet_coordinate_descent(\n",
      "/Users/markhendricks/Projects/drw-dataanalysis-2023/venv/lib/python3.9/site-packages/sklearn/linear_model/_coordinate_descent.py:631: ConvergenceWarning: Objective did not converge. You might want to increase the number of iterations, check the scale of the features or consider increasing regularisation. Duality gap: 1.256e-04, tolerance: 7.604e-06\n",
      "  model = cd_fast.enet_coordinate_descent(\n",
      "/Users/markhendricks/Projects/drw-dataanalysis-2023/venv/lib/python3.9/site-packages/sklearn/linear_model/_coordinate_descent.py:631: ConvergenceWarning: Objective did not converge. You might want to increase the number of iterations, check the scale of the features or consider increasing regularisation. Duality gap: 1.180e-04, tolerance: 7.604e-06\n",
      "  model = cd_fast.enet_coordinate_descent(\n",
      "/Users/markhendricks/Projects/drw-dataanalysis-2023/venv/lib/python3.9/site-packages/sklearn/linear_model/_coordinate_descent.py:631: ConvergenceWarning: Objective did not converge. You might want to increase the number of iterations, check the scale of the features or consider increasing regularisation. Duality gap: 1.205e-04, tolerance: 7.604e-06\n",
      "  model = cd_fast.enet_coordinate_descent(\n",
      "/Users/markhendricks/Projects/drw-dataanalysis-2023/venv/lib/python3.9/site-packages/sklearn/linear_model/_coordinate_descent.py:631: ConvergenceWarning: Objective did not converge. You might want to increase the number of iterations, check the scale of the features or consider increasing regularisation. Duality gap: 1.220e-04, tolerance: 7.604e-06\n",
      "  model = cd_fast.enet_coordinate_descent(\n"
     ]
    },
    {
     "name": "stderr",
     "output_type": "stream",
     "text": [
      "/Users/markhendricks/Projects/drw-dataanalysis-2023/venv/lib/python3.9/site-packages/sklearn/linear_model/_coordinate_descent.py:631: ConvergenceWarning: Objective did not converge. You might want to increase the number of iterations, check the scale of the features or consider increasing regularisation. Duality gap: 1.332e-04, tolerance: 7.604e-06\n",
      "  model = cd_fast.enet_coordinate_descent(\n",
      "/Users/markhendricks/Projects/drw-dataanalysis-2023/venv/lib/python3.9/site-packages/sklearn/linear_model/_coordinate_descent.py:631: ConvergenceWarning: Objective did not converge. You might want to increase the number of iterations, check the scale of the features or consider increasing regularisation. Duality gap: 1.341e-04, tolerance: 7.604e-06\n",
      "  model = cd_fast.enet_coordinate_descent(\n",
      "/Users/markhendricks/Projects/drw-dataanalysis-2023/venv/lib/python3.9/site-packages/sklearn/linear_model/_coordinate_descent.py:631: ConvergenceWarning: Objective did not converge. You might want to increase the number of iterations, check the scale of the features or consider increasing regularisation. Duality gap: 1.387e-04, tolerance: 7.604e-06\n",
      "  model = cd_fast.enet_coordinate_descent(\n",
      "/Users/markhendricks/Projects/drw-dataanalysis-2023/venv/lib/python3.9/site-packages/sklearn/linear_model/_coordinate_descent.py:631: ConvergenceWarning: Objective did not converge. You might want to increase the number of iterations, check the scale of the features or consider increasing regularisation. Duality gap: 1.591e-05, tolerance: 1.038e-05\n",
      "  model = cd_fast.enet_coordinate_descent(\n",
      "/Users/markhendricks/Projects/drw-dataanalysis-2023/venv/lib/python3.9/site-packages/sklearn/linear_model/_coordinate_descent.py:631: ConvergenceWarning: Objective did not converge. You might want to increase the number of iterations, check the scale of the features or consider increasing regularisation. Duality gap: 2.687e-05, tolerance: 1.038e-05\n",
      "  model = cd_fast.enet_coordinate_descent(\n",
      "/Users/markhendricks/Projects/drw-dataanalysis-2023/venv/lib/python3.9/site-packages/sklearn/linear_model/_coordinate_descent.py:631: ConvergenceWarning: Objective did not converge. You might want to increase the number of iterations, check the scale of the features or consider increasing regularisation. Duality gap: 3.899e-05, tolerance: 1.038e-05\n",
      "  model = cd_fast.enet_coordinate_descent(\n",
      "/Users/markhendricks/Projects/drw-dataanalysis-2023/venv/lib/python3.9/site-packages/sklearn/linear_model/_coordinate_descent.py:631: ConvergenceWarning: Objective did not converge. You might want to increase the number of iterations, check the scale of the features or consider increasing regularisation. Duality gap: 3.804e-05, tolerance: 1.038e-05\n",
      "  model = cd_fast.enet_coordinate_descent(\n",
      "/Users/markhendricks/Projects/drw-dataanalysis-2023/venv/lib/python3.9/site-packages/sklearn/linear_model/_coordinate_descent.py:631: ConvergenceWarning: Objective did not converge. You might want to increase the number of iterations, check the scale of the features or consider increasing regularisation. Duality gap: 9.269e-05, tolerance: 1.038e-05\n",
      "  model = cd_fast.enet_coordinate_descent(\n",
      "/Users/markhendricks/Projects/drw-dataanalysis-2023/venv/lib/python3.9/site-packages/sklearn/linear_model/_coordinate_descent.py:631: ConvergenceWarning: Objective did not converge. You might want to increase the number of iterations, check the scale of the features or consider increasing regularisation. Duality gap: 2.073e-05, tolerance: 1.038e-05\n",
      "  model = cd_fast.enet_coordinate_descent(\n",
      "/Users/markhendricks/Projects/drw-dataanalysis-2023/venv/lib/python3.9/site-packages/sklearn/linear_model/_coordinate_descent.py:631: ConvergenceWarning: Objective did not converge. You might want to increase the number of iterations, check the scale of the features or consider increasing regularisation. Duality gap: 3.345e-05, tolerance: 1.038e-05\n",
      "  model = cd_fast.enet_coordinate_descent(\n",
      "/Users/markhendricks/Projects/drw-dataanalysis-2023/venv/lib/python3.9/site-packages/sklearn/linear_model/_coordinate_descent.py:631: ConvergenceWarning: Objective did not converge. You might want to increase the number of iterations, check the scale of the features or consider increasing regularisation. Duality gap: 4.026e-05, tolerance: 1.038e-05\n",
      "  model = cd_fast.enet_coordinate_descent(\n",
      "/Users/markhendricks/Projects/drw-dataanalysis-2023/venv/lib/python3.9/site-packages/sklearn/linear_model/_coordinate_descent.py:631: ConvergenceWarning: Objective did not converge. You might want to increase the number of iterations, check the scale of the features or consider increasing regularisation. Duality gap: 6.208e-05, tolerance: 1.038e-05\n",
      "  model = cd_fast.enet_coordinate_descent(\n",
      "/Users/markhendricks/Projects/drw-dataanalysis-2023/venv/lib/python3.9/site-packages/sklearn/linear_model/_coordinate_descent.py:631: ConvergenceWarning: Objective did not converge. You might want to increase the number of iterations, check the scale of the features or consider increasing regularisation. Duality gap: 1.294e-04, tolerance: 1.038e-05\n",
      "  model = cd_fast.enet_coordinate_descent(\n",
      "/Users/markhendricks/Projects/drw-dataanalysis-2023/venv/lib/python3.9/site-packages/sklearn/linear_model/_coordinate_descent.py:631: ConvergenceWarning: Objective did not converge. You might want to increase the number of iterations, check the scale of the features or consider increasing regularisation. Duality gap: 1.712e-04, tolerance: 1.038e-05\n",
      "  model = cd_fast.enet_coordinate_descent(\n",
      "/Users/markhendricks/Projects/drw-dataanalysis-2023/venv/lib/python3.9/site-packages/sklearn/linear_model/_coordinate_descent.py:631: ConvergenceWarning: Objective did not converge. You might want to increase the number of iterations, check the scale of the features or consider increasing regularisation. Duality gap: 2.480e-04, tolerance: 1.038e-05\n",
      "  model = cd_fast.enet_coordinate_descent(\n",
      "/Users/markhendricks/Projects/drw-dataanalysis-2023/venv/lib/python3.9/site-packages/sklearn/linear_model/_coordinate_descent.py:631: ConvergenceWarning: Objective did not converge. You might want to increase the number of iterations, check the scale of the features or consider increasing regularisation. Duality gap: 1.905e-04, tolerance: 1.038e-05\n",
      "  model = cd_fast.enet_coordinate_descent(\n",
      "/Users/markhendricks/Projects/drw-dataanalysis-2023/venv/lib/python3.9/site-packages/sklearn/linear_model/_coordinate_descent.py:631: ConvergenceWarning: Objective did not converge. You might want to increase the number of iterations, check the scale of the features or consider increasing regularisation. Duality gap: 1.288e-04, tolerance: 1.038e-05\n",
      "  model = cd_fast.enet_coordinate_descent(\n",
      "/Users/markhendricks/Projects/drw-dataanalysis-2023/venv/lib/python3.9/site-packages/sklearn/linear_model/_coordinate_descent.py:631: ConvergenceWarning: Objective did not converge. You might want to increase the number of iterations, check the scale of the features or consider increasing regularisation. Duality gap: 1.281e-04, tolerance: 1.038e-05\n",
      "  model = cd_fast.enet_coordinate_descent(\n",
      "/Users/markhendricks/Projects/drw-dataanalysis-2023/venv/lib/python3.9/site-packages/sklearn/linear_model/_coordinate_descent.py:631: ConvergenceWarning: Objective did not converge. You might want to increase the number of iterations, check the scale of the features or consider increasing regularisation. Duality gap: 4.684e-05, tolerance: 1.038e-05\n",
      "  model = cd_fast.enet_coordinate_descent(\n",
      "/Users/markhendricks/Projects/drw-dataanalysis-2023/venv/lib/python3.9/site-packages/sklearn/linear_model/_coordinate_descent.py:631: ConvergenceWarning: Objective did not converge. You might want to increase the number of iterations, check the scale of the features or consider increasing regularisation. Duality gap: 5.282e-05, tolerance: 1.038e-05\n",
      "  model = cd_fast.enet_coordinate_descent(\n",
      "/Users/markhendricks/Projects/drw-dataanalysis-2023/venv/lib/python3.9/site-packages/sklearn/linear_model/_coordinate_descent.py:631: ConvergenceWarning: Objective did not converge. You might want to increase the number of iterations, check the scale of the features or consider increasing regularisation. Duality gap: 4.795e-05, tolerance: 1.038e-05\n",
      "  model = cd_fast.enet_coordinate_descent(\n",
      "/Users/markhendricks/Projects/drw-dataanalysis-2023/venv/lib/python3.9/site-packages/sklearn/linear_model/_coordinate_descent.py:631: ConvergenceWarning: Objective did not converge. You might want to increase the number of iterations, check the scale of the features or consider increasing regularisation. Duality gap: 8.634e-05, tolerance: 1.038e-05\n",
      "  model = cd_fast.enet_coordinate_descent(\n",
      "/Users/markhendricks/Projects/drw-dataanalysis-2023/venv/lib/python3.9/site-packages/sklearn/linear_model/_coordinate_descent.py:631: ConvergenceWarning: Objective did not converge. You might want to increase the number of iterations, check the scale of the features or consider increasing regularisation. Duality gap: 8.407e-05, tolerance: 1.038e-05\n",
      "  model = cd_fast.enet_coordinate_descent(\n",
      "/Users/markhendricks/Projects/drw-dataanalysis-2023/venv/lib/python3.9/site-packages/sklearn/linear_model/_coordinate_descent.py:631: ConvergenceWarning: Objective did not converge. You might want to increase the number of iterations, check the scale of the features or consider increasing regularisation. Duality gap: 1.488e-04, tolerance: 1.038e-05\n",
      "  model = cd_fast.enet_coordinate_descent(\n",
      "/Users/markhendricks/Projects/drw-dataanalysis-2023/venv/lib/python3.9/site-packages/sklearn/linear_model/_coordinate_descent.py:631: ConvergenceWarning: Objective did not converge. You might want to increase the number of iterations, check the scale of the features or consider increasing regularisation. Duality gap: 2.161e-04, tolerance: 1.038e-05\n",
      "  model = cd_fast.enet_coordinate_descent(\n",
      "/Users/markhendricks/Projects/drw-dataanalysis-2023/venv/lib/python3.9/site-packages/sklearn/linear_model/_coordinate_descent.py:631: ConvergenceWarning: Objective did not converge. You might want to increase the number of iterations, check the scale of the features or consider increasing regularisation. Duality gap: 2.380e-04, tolerance: 1.038e-05\n",
      "  model = cd_fast.enet_coordinate_descent(\n",
      "/Users/markhendricks/Projects/drw-dataanalysis-2023/venv/lib/python3.9/site-packages/sklearn/linear_model/_coordinate_descent.py:631: ConvergenceWarning: Objective did not converge. You might want to increase the number of iterations, check the scale of the features or consider increasing regularisation. Duality gap: 1.089e-04, tolerance: 1.038e-05\n",
      "  model = cd_fast.enet_coordinate_descent(\n",
      "/Users/markhendricks/Projects/drw-dataanalysis-2023/venv/lib/python3.9/site-packages/sklearn/linear_model/_coordinate_descent.py:631: ConvergenceWarning: Objective did not converge. You might want to increase the number of iterations, check the scale of the features or consider increasing regularisation. Duality gap: 1.255e-04, tolerance: 1.038e-05\n",
      "  model = cd_fast.enet_coordinate_descent(\n",
      "/Users/markhendricks/Projects/drw-dataanalysis-2023/venv/lib/python3.9/site-packages/sklearn/linear_model/_coordinate_descent.py:631: ConvergenceWarning: Objective did not converge. You might want to increase the number of iterations, check the scale of the features or consider increasing regularisation. Duality gap: 1.495e-04, tolerance: 1.038e-05\n",
      "  model = cd_fast.enet_coordinate_descent(\n",
      "/Users/markhendricks/Projects/drw-dataanalysis-2023/venv/lib/python3.9/site-packages/sklearn/linear_model/_coordinate_descent.py:631: ConvergenceWarning: Objective did not converge. You might want to increase the number of iterations, check the scale of the features or consider increasing regularisation. Duality gap: 1.256e-04, tolerance: 1.038e-05\n",
      "  model = cd_fast.enet_coordinate_descent(\n",
      "/Users/markhendricks/Projects/drw-dataanalysis-2023/venv/lib/python3.9/site-packages/sklearn/linear_model/_coordinate_descent.py:631: ConvergenceWarning: Objective did not converge. You might want to increase the number of iterations, check the scale of the features or consider increasing regularisation. Duality gap: 2.093e-04, tolerance: 1.038e-05\n",
      "  model = cd_fast.enet_coordinate_descent(\n"
     ]
    },
    {
     "name": "stderr",
     "output_type": "stream",
     "text": [
      "/Users/markhendricks/Projects/drw-dataanalysis-2023/venv/lib/python3.9/site-packages/sklearn/linear_model/_coordinate_descent.py:631: ConvergenceWarning: Objective did not converge. You might want to increase the number of iterations, check the scale of the features or consider increasing regularisation. Duality gap: 2.658e-04, tolerance: 1.038e-05\n",
      "  model = cd_fast.enet_coordinate_descent(\n",
      "/Users/markhendricks/Projects/drw-dataanalysis-2023/venv/lib/python3.9/site-packages/sklearn/linear_model/_coordinate_descent.py:631: ConvergenceWarning: Objective did not converge. You might want to increase the number of iterations, check the scale of the features or consider increasing regularisation. Duality gap: 2.012e-04, tolerance: 1.038e-05\n",
      "  model = cd_fast.enet_coordinate_descent(\n",
      "/Users/markhendricks/Projects/drw-dataanalysis-2023/venv/lib/python3.9/site-packages/sklearn/linear_model/_coordinate_descent.py:631: ConvergenceWarning: Objective did not converge. You might want to increase the number of iterations, check the scale of the features or consider increasing regularisation. Duality gap: 2.416e-04, tolerance: 1.038e-05\n",
      "  model = cd_fast.enet_coordinate_descent(\n",
      "/Users/markhendricks/Projects/drw-dataanalysis-2023/venv/lib/python3.9/site-packages/sklearn/linear_model/_coordinate_descent.py:631: ConvergenceWarning: Objective did not converge. You might want to increase the number of iterations, check the scale of the features or consider increasing regularisation. Duality gap: 3.727e-04, tolerance: 1.038e-05\n",
      "  model = cd_fast.enet_coordinate_descent(\n",
      "/Users/markhendricks/Projects/drw-dataanalysis-2023/venv/lib/python3.9/site-packages/sklearn/linear_model/_coordinate_descent.py:631: ConvergenceWarning: Objective did not converge. You might want to increase the number of iterations, check the scale of the features or consider increasing regularisation. Duality gap: 3.728e-04, tolerance: 1.038e-05\n",
      "  model = cd_fast.enet_coordinate_descent(\n",
      "/Users/markhendricks/Projects/drw-dataanalysis-2023/venv/lib/python3.9/site-packages/sklearn/linear_model/_coordinate_descent.py:631: ConvergenceWarning: Objective did not converge. You might want to increase the number of iterations, check the scale of the features or consider increasing regularisation. Duality gap: 3.933e-04, tolerance: 1.038e-05\n",
      "  model = cd_fast.enet_coordinate_descent(\n",
      "/Users/markhendricks/Projects/drw-dataanalysis-2023/venv/lib/python3.9/site-packages/sklearn/linear_model/_coordinate_descent.py:631: ConvergenceWarning: Objective did not converge. You might want to increase the number of iterations, check the scale of the features or consider increasing regularisation. Duality gap: 4.544e-04, tolerance: 1.038e-05\n",
      "  model = cd_fast.enet_coordinate_descent(\n",
      "/Users/markhendricks/Projects/drw-dataanalysis-2023/venv/lib/python3.9/site-packages/sklearn/linear_model/_coordinate_descent.py:631: ConvergenceWarning: Objective did not converge. You might want to increase the number of iterations, check the scale of the features or consider increasing regularisation. Duality gap: 5.379e-04, tolerance: 1.038e-05\n",
      "  model = cd_fast.enet_coordinate_descent(\n",
      "/Users/markhendricks/Projects/drw-dataanalysis-2023/venv/lib/python3.9/site-packages/sklearn/linear_model/_coordinate_descent.py:631: ConvergenceWarning: Objective did not converge. You might want to increase the number of iterations, check the scale of the features or consider increasing regularisation. Duality gap: 4.988e-04, tolerance: 1.038e-05\n",
      "  model = cd_fast.enet_coordinate_descent(\n",
      "/Users/markhendricks/Projects/drw-dataanalysis-2023/venv/lib/python3.9/site-packages/sklearn/linear_model/_coordinate_descent.py:631: ConvergenceWarning: Objective did not converge. You might want to increase the number of iterations, check the scale of the features or consider increasing regularisation. Duality gap: 4.354e-04, tolerance: 1.038e-05\n",
      "  model = cd_fast.enet_coordinate_descent(\n",
      "/Users/markhendricks/Projects/drw-dataanalysis-2023/venv/lib/python3.9/site-packages/sklearn/linear_model/_coordinate_descent.py:631: ConvergenceWarning: Objective did not converge. You might want to increase the number of iterations, check the scale of the features or consider increasing regularisation. Duality gap: 3.055e-04, tolerance: 1.038e-05\n",
      "  model = cd_fast.enet_coordinate_descent(\n",
      "/Users/markhendricks/Projects/drw-dataanalysis-2023/venv/lib/python3.9/site-packages/sklearn/linear_model/_coordinate_descent.py:631: ConvergenceWarning: Objective did not converge. You might want to increase the number of iterations, check the scale of the features or consider increasing regularisation. Duality gap: 2.864e-04, tolerance: 1.038e-05\n",
      "  model = cd_fast.enet_coordinate_descent(\n",
      "/Users/markhendricks/Projects/drw-dataanalysis-2023/venv/lib/python3.9/site-packages/sklearn/linear_model/_coordinate_descent.py:631: ConvergenceWarning: Objective did not converge. You might want to increase the number of iterations, check the scale of the features or consider increasing regularisation. Duality gap: 2.670e-04, tolerance: 1.038e-05\n",
      "  model = cd_fast.enet_coordinate_descent(\n",
      "/Users/markhendricks/Projects/drw-dataanalysis-2023/venv/lib/python3.9/site-packages/sklearn/linear_model/_coordinate_descent.py:631: ConvergenceWarning: Objective did not converge. You might want to increase the number of iterations, check the scale of the features or consider increasing regularisation. Duality gap: 3.274e-04, tolerance: 1.038e-05\n",
      "  model = cd_fast.enet_coordinate_descent(\n",
      "/Users/markhendricks/Projects/drw-dataanalysis-2023/venv/lib/python3.9/site-packages/sklearn/linear_model/_coordinate_descent.py:631: ConvergenceWarning: Objective did not converge. You might want to increase the number of iterations, check the scale of the features or consider increasing regularisation. Duality gap: 3.826e-04, tolerance: 1.038e-05\n",
      "  model = cd_fast.enet_coordinate_descent(\n",
      "/Users/markhendricks/Projects/drw-dataanalysis-2023/venv/lib/python3.9/site-packages/sklearn/linear_model/_coordinate_descent.py:631: ConvergenceWarning: Objective did not converge. You might want to increase the number of iterations, check the scale of the features or consider increasing regularisation. Duality gap: 3.509e-04, tolerance: 1.038e-05\n",
      "  model = cd_fast.enet_coordinate_descent(\n",
      "/Users/markhendricks/Projects/drw-dataanalysis-2023/venv/lib/python3.9/site-packages/sklearn/linear_model/_coordinate_descent.py:631: ConvergenceWarning: Objective did not converge. You might want to increase the number of iterations, check the scale of the features or consider increasing regularisation. Duality gap: 3.528e-04, tolerance: 1.038e-05\n",
      "  model = cd_fast.enet_coordinate_descent(\n",
      "/Users/markhendricks/Projects/drw-dataanalysis-2023/venv/lib/python3.9/site-packages/sklearn/linear_model/_coordinate_descent.py:631: ConvergenceWarning: Objective did not converge. You might want to increase the number of iterations, check the scale of the features or consider increasing regularisation. Duality gap: 4.700e-04, tolerance: 1.038e-05\n",
      "  model = cd_fast.enet_coordinate_descent(\n",
      "/Users/markhendricks/Projects/drw-dataanalysis-2023/venv/lib/python3.9/site-packages/sklearn/linear_model/_coordinate_descent.py:631: ConvergenceWarning: Objective did not converge. You might want to increase the number of iterations, check the scale of the features or consider increasing regularisation. Duality gap: 4.458e-04, tolerance: 1.038e-05\n",
      "  model = cd_fast.enet_coordinate_descent(\n",
      "/Users/markhendricks/Projects/drw-dataanalysis-2023/venv/lib/python3.9/site-packages/sklearn/linear_model/_coordinate_descent.py:631: ConvergenceWarning: Objective did not converge. You might want to increase the number of iterations, check the scale of the features or consider increasing regularisation. Duality gap: 3.704e-04, tolerance: 1.038e-05\n",
      "  model = cd_fast.enet_coordinate_descent(\n",
      "/Users/markhendricks/Projects/drw-dataanalysis-2023/venv/lib/python3.9/site-packages/sklearn/linear_model/_coordinate_descent.py:631: ConvergenceWarning: Objective did not converge. You might want to increase the number of iterations, check the scale of the features or consider increasing regularisation. Duality gap: 3.068e-04, tolerance: 1.038e-05\n",
      "  model = cd_fast.enet_coordinate_descent(\n",
      "/Users/markhendricks/Projects/drw-dataanalysis-2023/venv/lib/python3.9/site-packages/sklearn/linear_model/_coordinate_descent.py:631: ConvergenceWarning: Objective did not converge. You might want to increase the number of iterations, check the scale of the features or consider increasing regularisation. Duality gap: 2.672e-04, tolerance: 1.038e-05\n",
      "  model = cd_fast.enet_coordinate_descent(\n",
      "/Users/markhendricks/Projects/drw-dataanalysis-2023/venv/lib/python3.9/site-packages/sklearn/linear_model/_coordinate_descent.py:631: ConvergenceWarning: Objective did not converge. You might want to increase the number of iterations, check the scale of the features or consider increasing regularisation. Duality gap: 2.677e-04, tolerance: 1.038e-05\n",
      "  model = cd_fast.enet_coordinate_descent(\n",
      "/Users/markhendricks/Projects/drw-dataanalysis-2023/venv/lib/python3.9/site-packages/sklearn/linear_model/_coordinate_descent.py:631: ConvergenceWarning: Objective did not converge. You might want to increase the number of iterations, check the scale of the features or consider increasing regularisation. Duality gap: 2.669e-04, tolerance: 1.038e-05\n",
      "  model = cd_fast.enet_coordinate_descent(\n",
      "/Users/markhendricks/Projects/drw-dataanalysis-2023/venv/lib/python3.9/site-packages/sklearn/linear_model/_coordinate_descent.py:631: ConvergenceWarning: Objective did not converge. You might want to increase the number of iterations, check the scale of the features or consider increasing regularisation. Duality gap: 2.499e-04, tolerance: 1.038e-05\n",
      "  model = cd_fast.enet_coordinate_descent(\n",
      "/Users/markhendricks/Projects/drw-dataanalysis-2023/venv/lib/python3.9/site-packages/sklearn/linear_model/_coordinate_descent.py:631: ConvergenceWarning: Objective did not converge. You might want to increase the number of iterations, check the scale of the features or consider increasing regularisation. Duality gap: 2.349e-04, tolerance: 1.038e-05\n",
      "  model = cd_fast.enet_coordinate_descent(\n",
      "/Users/markhendricks/Projects/drw-dataanalysis-2023/venv/lib/python3.9/site-packages/sklearn/linear_model/_coordinate_descent.py:631: ConvergenceWarning: Objective did not converge. You might want to increase the number of iterations, check the scale of the features or consider increasing regularisation. Duality gap: 2.363e-04, tolerance: 1.038e-05\n",
      "  model = cd_fast.enet_coordinate_descent(\n",
      "/Users/markhendricks/Projects/drw-dataanalysis-2023/venv/lib/python3.9/site-packages/sklearn/linear_model/_coordinate_descent.py:631: ConvergenceWarning: Objective did not converge. You might want to increase the number of iterations, check the scale of the features or consider increasing regularisation. Duality gap: 2.462e-04, tolerance: 1.038e-05\n",
      "  model = cd_fast.enet_coordinate_descent(\n"
     ]
    }
   ],
   "source": [
    "model_lasso_cv = LassoCV(max_iter=100).fit(rets_sp500, np.ravel(rets_gld))"
   ]
  },
  {
   "cell_type": "code",
   "execution_count": 22,
   "id": "210a0fc7",
   "metadata": {},
   "outputs": [
    {
     "data": {
      "text/plain": [
       "4.555415661524658e-05"
      ]
     },
     "execution_count": 22,
     "metadata": {},
     "output_type": "execute_result"
    }
   ],
   "source": [
    "model_lasso_cv.alpha_"
   ]
  },
  {
   "cell_type": "markdown",
   "id": "6ddc7d42",
   "metadata": {},
   "source": [
    "## 6.\n",
    "\n",
    "Use your estimations based on data through 2020 to fit the model for 2021-2022. \n",
    "\n",
    "Use the CV penalty parameters (from the previous problem) for Ridge and Lasso.\n",
    "\n",
    "What is the r-squared in these out-of-sample fits?\n",
    "\n",
    "#### Note\n",
    "Doing this is really easy in Python. For instance, for the LASSO estimation, you could try\n",
    "\n",
    "`est = Lasso(alpha=3e-4).fit(X,y)`\n",
    "\n",
    "`score_is = est.score(X_insamp,y_insamp)`\n",
    "\n",
    "`score_oos = est.score(X_oos,y_oos)`\n",
    "\n",
    "Which method does better out-of-sample?"
   ]
  },
  {
   "cell_type": "markdown",
   "id": "2f5f09b8",
   "metadata": {},
   "source": [
    "# <span style='color:red'>Solution 6</span>"
   ]
  },
  {
   "cell_type": "code",
   "execution_count": 23,
   "id": "4a1c52c9",
   "metadata": {},
   "outputs": [],
   "source": [
    "train_X = rets_sp500.loc[:'2020']\n",
    "train_y = rets_gld.loc[:'2020']\n",
    "\n",
    "test_X = rets_sp500.loc['2021':]\n",
    "test_y = rets_gld.loc['2021':]"
   ]
  },
  {
   "cell_type": "code",
   "execution_count": 24,
   "id": "bc5b1fe3",
   "metadata": {},
   "outputs": [],
   "source": [
    "ols_is = LinearRegression().fit(train_X, train_y)\n",
    "ridge_is = Ridge(alpha=model_ridge_cv.alpha_).fit(train_X, train_y)\n",
    "lasso_is = Lasso(alpha=model_lasso_cv.alpha_).fit(train_X, train_y)"
   ]
  },
  {
   "cell_type": "code",
   "execution_count": 25,
   "id": "06a895e7",
   "metadata": {},
   "outputs": [
    {
     "data": {
      "text/plain": [
       "-0.5375280801815447"
      ]
     },
     "execution_count": 25,
     "metadata": {},
     "output_type": "execute_result"
    }
   ],
   "source": [
    "# OLS OOS R-Squared\n",
    "ols_is.score(test_X, test_y)"
   ]
  },
  {
   "cell_type": "code",
   "execution_count": 26,
   "id": "6bb5fe57",
   "metadata": {},
   "outputs": [
    {
     "data": {
      "text/plain": [
       "0.32405213124848276"
      ]
     },
     "execution_count": 26,
     "metadata": {},
     "output_type": "execute_result"
    }
   ],
   "source": [
    "# Ridge OOS R-Squared\n",
    "ridge_is.score(test_X, test_y)"
   ]
  },
  {
   "cell_type": "code",
   "execution_count": 27,
   "id": "96d577d3",
   "metadata": {},
   "outputs": [
    {
     "data": {
      "text/plain": [
       "0.48784447997601943"
      ]
     },
     "execution_count": 27,
     "metadata": {},
     "output_type": "execute_result"
    }
   ],
   "source": [
    "# Lasso OOS R-Squared\n",
    "lasso_is.score(test_X, test_y)"
   ]
  },
  {
   "cell_type": "markdown",
   "id": "f9c5a1ab",
   "metadata": {},
   "source": [
    "As demonstrated by the out of sample r-squared values, OLS performs far worse than does penalized regression. In fact, both Lasso and Ridge perform far better than the null model. Given more penalty values in our cross-validation for Ridge (instead of the default scikit-learn parameters), we may be better able to compare Lasso and Ridge. In general, however, it is important to remember that the \"optimal\" penalties found in part 5 were calculated using the test sample, which gives rise to some lookahead bias."
   ]
  }
 ],
 "metadata": {
  "hide_input": false,
  "kernelspec": {
   "display_name": "Python 3 (ipykernel)",
   "language": "python",
   "name": "python3"
  },
  "language_info": {
   "codemirror_mode": {
    "name": "ipython",
    "version": 3
   },
   "file_extension": ".py",
   "mimetype": "text/x-python",
   "name": "python",
   "nbconvert_exporter": "python",
   "pygments_lexer": "ipython3",
   "version": "3.9.6"
  },
  "toc": {
   "base_numbering": 1,
   "nav_menu": {},
   "number_sections": true,
   "sideBar": true,
   "skip_h1_title": false,
   "title_cell": "Table of Contents",
   "title_sidebar": "Contents",
   "toc_cell": false,
   "toc_position": {},
   "toc_section_display": true,
   "toc_window_display": false
  },
  "varInspector": {
   "cols": {
    "lenName": 16,
    "lenType": 16,
    "lenVar": 40
   },
   "kernels_config": {
    "python": {
     "delete_cmd_postfix": "",
     "delete_cmd_prefix": "del ",
     "library": "var_list.py",
     "varRefreshCmd": "print(var_dic_list())"
    },
    "r": {
     "delete_cmd_postfix": ") ",
     "delete_cmd_prefix": "rm(",
     "library": "var_list.r",
     "varRefreshCmd": "cat(var_dic_list()) "
    }
   },
   "types_to_exclude": [
    "module",
    "function",
    "builtin_function_or_method",
    "instance",
    "_Feature"
   ],
   "window_display": false
  }
 },
 "nbformat": 4,
 "nbformat_minor": 5
}
